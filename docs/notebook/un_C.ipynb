{
  "cells": [
    {
      "cell_type": "raw",
      "metadata": {},
      "source": [
        "---\n",
        "title: \"R per l'analisi statistica multivariata\"\n",
        "subtitle: \"Unità C: i `data.frame`s\"\n",
        "author: \"Tommaso Rigon\"\n",
        "institute: \"Università Milano-Bicocca\"\n",
        "editor: visual\n",
        "execute:\n",
        "  echo: true\n",
        "  warning: true\n",
        "editor_options: \n",
        "  chunk_output_type: console\n",
        "---"
      ]
    },
    {
      "cell_type": "markdown",
      "metadata": {},
      "source": [
        "## Unità C\n",
        "\n",
        "-   L'oggetto `data.frame`\n",
        "-   Importazione di un dataset in memoria\n",
        "-   Esplorazione e manipolazione di un dataset\n",
        "-   Tipologia di variabili\n",
        "-   I valori mancanti\n",
        "\n",
        "::: callout-note\n",
        "#### Nota\n",
        "\n",
        "Esercizi **R** associati disponibili a [questo link](https://tommasorigon.github.io/introR/exe/es_1.html)\n",
        ":::\n",
        "\n",
        "## Gli oggetti di tipo `data.frame`\n",
        "\n",
        "Un oggetto **R** chiamato `data.frame` corrisponde alla **matrice dei dati**.\n",
        "\n",
        "Ciascuna riga rappresenta quindi un'**unità statistica**, mentre ciascuna colonna rappresenta invece una **variabile**.\n",
        "\n",
        ". . .\n",
        "\n",
        "Un `data.frame` assomiglia ad una matrice (`matrix`), ma è pensato per l'analisi dei dati.\n",
        "\n",
        "Ad esempio, un `data.frame` può contenere anche valori non numerici, come per esempio le **variabili qualitative** o **valori mancanti**.\n",
        "\n",
        "Come vedremo, il `data.frame` viene generalmente caricato all'interno di **R** utilizzando ad esempio la funzione `read.table`.\n",
        "\n",
        "## Importazione di un dataset\n",
        "\n",
        "Il modo più frequente di caricare un dataset in memoria è importarlo da un **file esterno**.\n",
        "\n",
        "Se i dati hanno dimensioni piccole / medie (dimensione file $<$ 3-4 Gb), sono spesso salvati in formato `.csv` oppure `.txt`.\n",
        "\n",
        "In contesti reali e più complessi, è possibile importare i dati a partire direttamente da database relazionali come **SQL**.\n",
        "\n",
        ". . .\n",
        "\n",
        "È sconsigliabile importare i dati in **R** a partire da un file Excel. Più in generale, ci sono svariate ragioni per evitare Excel se l'obiettivo è condurre una rigorosa analisi dei dati.\n",
        "\n",
        ". . .\n",
        "\n",
        "::: callout-note\n",
        "#### Nota\n",
        "\n",
        "Per poter procedere con i prossimi comandi, è necessario scaricare il file `calcio.csv` e salvarlo nel proprio computer. [Link al file](../dataset/calcio.csv).\n",
        ":::\n",
        "\n",
        "## I dati grezzi (editor di testo)\n",
        "\n",
        "![](img/data.png)\n",
        "\n",
        "## La cartella di lavoro\n",
        "\n",
        "La sessione di **R** attiva è aperta in una specifica **cartella di lavoro**, identificata dal comando `getwd`.\n",
        "\n",
        "Ad esempio, la cartella in cui il codice è stato eseguito è la seguente"
      ]
    },
    {
      "cell_type": "code",
      "metadata": {},
      "source": [
        "getwd() # Identifica la cartella di lavoro (get working directory)"
      ],
      "execution_count": null,
      "outputs": []
    },
    {
      "cell_type": "markdown",
      "metadata": {},
      "source": [
        ". . .\n",
        "\n",
        "Per aprire il file `calcio.csv`, bisogna fornire ad **R** il **percorso del file**, che dipende da dove questo è stato salvato (sul Desktop, cartella downloads, etc)."
      ]
    },
    {
      "cell_type": "code",
      "metadata": {},
      "source": [
        "# LA VARIABILE PATH VA CAMBIATA A SECONDA DI DOVE SIA SALVATO IL FILE .csv NEL PROPRIO PC\n",
        "path <- \"../dataset/calcio.csv\" # Questo è il percorso del file, relativo a getwd()"
      ],
      "execution_count": null,
      "outputs": []
    },
    {
      "cell_type": "markdown",
      "metadata": {},
      "source": [
        ". . .\n",
        "\n",
        "Il percorso del file può anche essere un **link**, come in questo caso:"
      ]
    },
    {
      "cell_type": "code",
      "metadata": {},
      "source": [
        "path <- \"https://tommasorigon.github.io/introR/dataset/calcio.csv\""
      ],
      "execution_count": null,
      "outputs": []
    },
    {
      "cell_type": "markdown",
      "metadata": {},
      "source": [
        "## Importazione del dataset\n",
        "\n",
        "È anche possibile **cambiare la cartella di lavoro** tramite il comando `setwd`.\n",
        "\n",
        "In Rstudio, si può usare l'opzione *More -\\> Set as working directory* nella finestra *Files*, selezionando la cartella di interesse.\n",
        "\n",
        "Una volta identificato il corretto *path* del file, per **importare il dataset** in memoria si usa ad esempio il comando `read.table`. Pertanto:"
      ]
    },
    {
      "cell_type": "code",
      "metadata": {},
      "source": [
        "calcio <- read.table(path, header = TRUE, sep = \",\")"
      ],
      "execution_count": null,
      "outputs": []
    },
    {
      "cell_type": "markdown",
      "metadata": {},
      "source": [
        ". . .\n",
        "\n",
        "::: callout-note\n",
        "#### Nota\n",
        "\n",
        "-   L'opzione `header = TRUE` significa che la prima riga contiene i nomi delle variabili.\n",
        "-   L'opzione `sep = \",\"` indica che i vari valori di ciascuna variabile sono separati da una virgola.\n",
        ":::\n",
        "\n",
        ". . .\n",
        "\n",
        "Infine, si noti che nel caso in cui il file sia contenuto nella cartella di lavoro, è quindi sufficiente usare:"
      ]
    },
    {
      "cell_type": "code",
      "metadata": {},
      "source": [
        "#| eval: false\n",
        "calcio <- read.table(\"calcio.csv\", header = TRUE, sep = \",\")"
      ],
      "execution_count": null,
      "outputs": []
    },
    {
      "cell_type": "markdown",
      "metadata": {},
      "source": [
        "## Esplorazione di un `data.frame`\n",
        "\n",
        "In primo luogo, siamo interessati a capire quante **variabili** e quante **osservazioni** sono contenute nel dataset `data.frame`:"
      ]
    },
    {
      "cell_type": "code",
      "metadata": {},
      "source": [
        "dim(calcio) # Equivalente a c(nrow(calcio), ncol(calcio))"
      ],
      "execution_count": null,
      "outputs": []
    },
    {
      "cell_type": "markdown",
      "metadata": {},
      "source": [
        ". . .\n",
        "\n",
        "Per verificare di non aver commesso errori grossolani nell'importazione del `data.frame`, possiamo visualizzare le prime $6$ osservazioni con il comando `head`:"
      ]
    },
    {
      "cell_type": "code",
      "metadata": {},
      "source": [
        "head(calcio) # Comando equivalente: calcio[1:6, ]"
      ],
      "execution_count": null,
      "outputs": []
    },
    {
      "cell_type": "markdown",
      "metadata": {},
      "source": [
        ". . .\n",
        "\n",
        "Il comando `tail` può essere usato per mostrare le ultime $6$ osservazioni:"
      ]
    },
    {
      "cell_type": "code",
      "metadata": {},
      "source": [
        "tail(calcio) # Comando equivalente: calcio[1895:1900, ]"
      ],
      "execution_count": null,
      "outputs": []
    },
    {
      "cell_type": "markdown",
      "metadata": {},
      "source": [
        "## Il dataset `calcio`\n",
        "\n",
        "Il dataset calcio contiene quindi un totale di $7$ variabili. Ciascuna osservazione è una **partita di calcio** avvenuta nel campionato di **serie A** dal 2008 al 2015.\n",
        "\n",
        ". . .\n",
        "\n",
        "-   La variabile `Date` indica la data della partita.\n",
        "-   Le variabili `HomeTeam`, `AwayTeam` indicano la squadra che ha giocato in casa ed in trasferta, rispettivamente.\n",
        "-   La variabile `FTR` (\"*Full Time Result*\") indica se la partita è stata vinta dalla squadra di casa (`H`), dalla squadra in trasferta (`A`), o si è conclusa con un pareggio (`D`).\n",
        "-   Le variabili `B365H`, `B365D` e `B365A`, indicano le quote della compagnia di scommesse *Bet365 Group Ltd* relative ai 3 eventi, prima dell'inizio della partita.\n",
        "\n",
        ". . .\n",
        "\n",
        "Per **accedere** e **modificare** i nomi delle variabili, si utilizza il comando `colnames`."
      ]
    },
    {
      "cell_type": "code",
      "metadata": {},
      "source": [
        "colnames(calcio) # Per accedere ai nomi delle variabili"
      ],
      "execution_count": null,
      "outputs": []
    },
    {
      "cell_type": "markdown",
      "metadata": {},
      "source": [
        "## Tipologia di variabili\n",
        "\n",
        "In un dataset sono presenti diverse **tipologie di variabili**.\n",
        "\n",
        ". . .\n",
        "\n",
        "Le variabili quantitative discrete e continue in **R** sono codificate come oggetti di tipo `integer` e `numeric`, rispettivamente.\n",
        "\n",
        ". . .\n",
        "\n",
        "Le variabili qualitative in **R** sono codificate come oggetti di tipo `character` oppure di tipo `factor`; la differenza tra queste tipologie verrà chiarita nelle prossime slides.\n",
        "\n",
        "Infine, le date in **R** si codificano con la tipologia `Date`.\n",
        "\n",
        ". . .\n",
        "\n",
        "::: callout-note\n",
        "#### Nota\n",
        "\n",
        "**R** non sempre riconosce correttamente la tipologia di variabili, come evidenziato dal comando `str`, che fornisce un sommario del `data.frame`."
      ]
    },
    {
      "cell_type": "code",
      "metadata": {},
      "source": [
        "str(calcio)"
      ],
      "execution_count": null,
      "outputs": []
    },
    {
      "cell_type": "markdown",
      "metadata": {},
      "source": [
        ":::\n",
        "\n",
        "## Variabili quantitative\n",
        "\n",
        "Per **estrarre una variabile** da un `data.frame` si procede come nel caso delle liste, ovvero tramite il simbolo `$`. Le variabili possono essere salvate con un nome a piacere.\n",
        "\n",
        ". . .\n",
        "\n",
        "Una variabile numerica è un vettore **R** a tutti gli effetti, pertanto possiamo applicare le funzioni che abbiamo già incontrato finora"
      ]
    },
    {
      "cell_type": "code",
      "metadata": {},
      "source": [
        "is.numeric(calcio$B365H) # Verifico che si tratta di una variabile di tipo numeric\n",
        "class(calcio$B365H)\n",
        "calcio$B365H[1:10] # Primi 10 elementi di un vettore R"
      ],
      "execution_count": null,
      "outputs": []
    },
    {
      "cell_type": "markdown",
      "metadata": {},
      "source": [
        ". . .\n",
        "\n",
        "Le **analisi descrittive** di una variabile numerica verranno affrontate nelle unità successive, per ora ci limitiamo alla manipolazione del `data.frame`.\n",
        "\n",
        "## Variabili qualitative I\n",
        "\n",
        "Le variabili di tipo `character` sono appropriate per le stringhe di testo, ovvero se ciascun campo corrisponde ad un breve testo, come ad esempio un *Tweet*.\n",
        "\n",
        "Le variabili qualitative con valori ripetuti vanno invece codificate come `factor`.\n",
        "\n",
        "Dobbiamo quindi **convertire** le $3$ variabili `HomeTeam`, `AwayTeam` e `FTR` come segue:"
      ]
    },
    {
      "cell_type": "code",
      "metadata": {},
      "source": [
        "calcio$HomeTeam <- factor(calcio$HomeTeam)\n",
        "calcio$AwayTeam <- factor(calcio$AwayTeam)\n",
        "calcio$FTR <- factor(calcio$FTR)"
      ],
      "execution_count": null,
      "outputs": []
    },
    {
      "cell_type": "markdown",
      "metadata": {},
      "source": [
        ". . .\n",
        "\n",
        "In alternativa, possiamo fare questa operazione in fase di lettura di dati, tramite l'opzione `stringsAsFactors`. Quindi:"
      ]
    },
    {
      "cell_type": "code",
      "metadata": {},
      "source": [
        "calcio <- read.table(path, header = TRUE, sep = \",\", stringsAsFactors = TRUE)"
      ],
      "execution_count": null,
      "outputs": []
    },
    {
      "cell_type": "markdown",
      "metadata": {},
      "source": [
        "## Variabili qualitative II\n",
        "\n",
        "In primo luogo, verifichiamo che la conversione sia avvenuta correttamente ed esploriamone il contenuto della variabile `HomeTeam`:\n",
        "\n",
        ". . .\n",
        "\n",
        "Nelle variabili di tipo `factor` sono pertanto elencate le varie `modalità`, chiamati `levels` in **R**.\n",
        "\n",
        ". . .\n",
        "\n",
        "Per accedere alle modalità si usa il comando `levels`, che elenca le modalità della variabile considerata in ordine alfabetico:"
      ]
    },
    {
      "cell_type": "code",
      "metadata": {},
      "source": [
        "levels(calcio$HomeTeam)"
      ],
      "execution_count": null,
      "outputs": []
    },
    {
      "cell_type": "markdown",
      "metadata": {},
      "source": [
        "## Variabili qualitative III\n",
        "\n",
        "Il comando `levels` permette di **rinominare le modalità**, ad esempio:"
      ]
    },
    {
      "cell_type": "code",
      "metadata": {},
      "source": [
        "calcio$FTR[1:10]\n",
        "levels(calcio$FTR) <- c(\"Away\", \"Draw\", \"Home\") # Rinomino le modalità\n",
        "calcio$FTR[1:10]"
      ],
      "execution_count": null,
      "outputs": []
    },
    {
      "cell_type": "markdown",
      "metadata": {},
      "source": [
        ". . .\n",
        "\n",
        "Il comando `levels` consente inoltre di accorpare le modalità di una variabile qualitativa:"
      ]
    },
    {
      "cell_type": "code",
      "metadata": {},
      "source": [
        "calcio$Draw <- calcio$FTR # Creo una copia della variabile FTR chiamata Draw\n",
        "levels(calcio$Draw) <- c(\"Not_Draw\", \"Draw\", \"Not_Draw\") # Accorpamento delle modalità\n",
        "\n",
        "calcio$Draw[1:10]"
      ],
      "execution_count": null,
      "outputs": []
    },
    {
      "cell_type": "markdown",
      "metadata": {},
      "source": [
        "## Le variabili di tipo `date`\n",
        "\n",
        "La variabile `Date` del dataset `calcio` rappresenta una data e pertanto va codificata come tale.\n",
        "\n",
        ". . .\n",
        "\n",
        "In **R** la conversione viene eseguita dal comando `as.Date`, seguita dal **formato** in cui è espressa la data:"
      ]
    },
    {
      "cell_type": "code",
      "metadata": {},
      "source": [
        "calcio$Date <- as.Date(calcio$Date, format = \"%Y-%m-%d\")\n",
        "class(calcio$Date)\n",
        "calcio$Date[1:10]"
      ],
      "execution_count": null,
      "outputs": []
    },
    {
      "cell_type": "markdown",
      "metadata": {},
      "source": [
        ". . .\n",
        "\n",
        "Una volta convertito in formata `Date`, è possibile svolgere alcune operazioni aggiuntive. Ad esempio:"
      ]
    },
    {
      "cell_type": "code",
      "metadata": {},
      "source": [
        "min(calcio$Date) # Prima partita giocata\n",
        "max(calcio$Date) # Ultima partita giocata"
      ],
      "execution_count": null,
      "outputs": []
    },
    {
      "cell_type": "markdown",
      "metadata": {},
      "source": [
        "## Manipolazione di un dataset\n",
        "\n",
        "Per **selezionare le righe** di un dataset si procede come nel caso delle matrici:"
      ]
    },
    {
      "cell_type": "code",
      "metadata": {},
      "source": [
        "calcio[c(1806, 501, 109), ]"
      ],
      "execution_count": null,
      "outputs": []
    },
    {
      "cell_type": "markdown",
      "metadata": {},
      "source": [
        ". . .\n",
        "\n",
        "È ovviamente possibile (e tipicamente molto più utile) selezionare le osservazioni che soddisfino una determinata **condizione**.\n",
        "\n",
        ". . .\n",
        "\n",
        "Supponiamo ad esempio di voler identificare le partite terminate con un pareggio:"
      ]
    },
    {
      "cell_type": "code",
      "metadata": {},
      "source": [
        "calcio_draw <- calcio[calcio$FTR == \"Draw\", ]\n",
        "head(calcio_draw)"
      ],
      "execution_count": null,
      "outputs": []
    },
    {
      "cell_type": "markdown",
      "metadata": {},
      "source": [
        "## I valori mancanti\n",
        "\n",
        "Supponiamo di voler identificare le partite in cui la squadra di casa ha una bassa probabilità di vittoria secondo *Bet365*:"
      ]
    },
    {
      "cell_type": "code",
      "metadata": {},
      "source": [
        "calcio_home <- calcio[calcio$B365H > 9, ]\n",
        "calcio_home"
      ],
      "execution_count": null,
      "outputs": []
    },
    {
      "cell_type": "markdown",
      "metadata": {},
      "source": [
        "::: callout-important\n",
        "Qualcosa è andato storto: ci sono dei simboli (`NA`) che non avevamo incontrato finora.\n",
        ":::\n",
        "\n",
        "La ragione per cui il comando produce dei risultati apparentemente strani è dovuto alla presenza di alcuni **dati mancanti**, codificati come `NA` (*Not Available*).\n",
        "\n",
        "In particolare, ci sono $3$ osservazioni (la $1501$, $1846$ e la $1848$) i cui valori relativi a *Bet365* non sono disponibili."
      ]
    },
    {
      "cell_type": "code",
      "metadata": {},
      "source": [
        "calcio[rowSums(is.na(calcio)) > 0, ] # Identifica le righe con valori mancanti"
      ],
      "execution_count": null,
      "outputs": []
    },
    {
      "cell_type": "markdown",
      "metadata": {},
      "source": [
        ". . .\n",
        "\n",
        "La funzione `is.na` produce una matrice **logica** della stessa dimensione di **calcio**, contenente `TRUE` se il valore è mancante e `FALSE` altrimenti.\n",
        "\n",
        ". . .\n",
        "\n",
        "La funzione `rowSums(matrice)` produce un vettore i cui valori alla somma degli elementi di ciascuna riga della `matrice`.\n",
        "\n",
        "Di conseguenza, `rowSums(is.na(calcio))` indica quanti valori mancanti sono presenti in ciascuna riga.\n",
        "\n",
        "## Gestire i dati mancanti\n",
        "\n",
        "La gestione statistica dei dati mancanti non è tra gli obiettivi di questo corso.\n",
        "\n",
        "La soluzione più facile, sebbene potenzialmente molto pericolosa, consistente semplicemente nel **rimuovere** le righe incomplete tramite il comando `na.omit`:"
      ]
    },
    {
      "cell_type": "code",
      "metadata": {},
      "source": [
        "calcio_no_na <- na.omit(calcio)\n",
        "dim(calcio_no_na)"
      ],
      "execution_count": null,
      "outputs": []
    },
    {
      "cell_type": "markdown",
      "metadata": {},
      "source": [
        ". . .\n",
        "\n",
        "Per risolvere il problema originario, ovvero identificare le partite in cui la squadra di casa ha bassa probabilità di vittoria, si può usare `subset`:"
      ]
    },
    {
      "cell_type": "code",
      "metadata": {},
      "source": [
        "calcio_home <- subset(calcio, subset = B365H > 9)\n",
        "calcio_home"
      ],
      "execution_count": null,
      "outputs": []
    },
    {
      "cell_type": "markdown",
      "metadata": {},
      "source": [
        "## Selezione delle variabili\n",
        "\n",
        "Il comando `subset` può essere usato sia per **selezionare le righe** (osservazioni) che per **selezionare le colonne** (variabili).\n",
        "\n",
        ". . .\n",
        "\n",
        "Nel secondo caso, si può procedere tramite l'opzione `select`:"
      ]
    },
    {
      "cell_type": "code",
      "metadata": {},
      "source": [
        "calcio_B365 <- subset(calcio, select = c(B365H, B365D, B365A))\n",
        "head(calcio_B365)"
      ],
      "execution_count": null,
      "outputs": []
    },
    {
      "cell_type": "markdown",
      "metadata": {},
      "source": [
        "Ovviamente è possibile anche selezionare \\empr{contemporaneamente} sia le righe che le colonne.\n",
        "\n",
        "## Il comando `attach`\n",
        "\n",
        "In **R** esiste un comando chiamato `attach`. Sebbene usato da molti, questo comando è **diabolico** e sarebbe meglio evitare di utilizzarlo.\n",
        "\n",
        ". . .\n",
        "\n",
        "Il comando `attach(dataframe)` consente di utilizzare le variabili di un `data.frame` come se queste fossero presenti nel workspace.\n",
        "\n",
        "Questa pratica tuttavia rende il codice molto meno leggibile e spesso conduce ad errori di varia natura.\n",
        "\n",
        ". . .\n",
        "\n",
        "Nonostante le varie proteste a favore della rimozione di `attach` da parte di alcuni, questo comando continua a (r)esistere e viene tuttora usato da molti.\n",
        "\n",
        "In questo corso non verranno forniti esempi di utilizzo di `attach` per evitare di indurre lo studente in tentazione.\n",
        "\n",
        "## Sommario\n",
        "\n",
        "A seguito di tutte queste operazioni, il dataset risulta molto modificato rispetto alla sua versione iniziale.\n",
        "\n",
        "Ri-eseguendo il comando `str` otteniamo infatti che"
      ]
    },
    {
      "cell_type": "code",
      "metadata": {},
      "source": [
        "str(calcio)"
      ],
      "execution_count": null,
      "outputs": []
    },
    {
      "cell_type": "markdown",
      "metadata": {},
      "source": [
        "## Il banco vince sempre\n",
        "\n",
        "Nelle scommesse calcistiche le **quote** rappresentano l'inverso della probabilità di un evento, per cui $$\n",
        "    (\\text{Probabilità dell'evento}) = \\frac{1}{(\\text{Quota dell'evento})}\n",
        "    $$\n",
        "\n",
        ". . .\n",
        "\n",
        "La quota rappresenta inoltre l'ammontare in € che il vincitore riceve a fronte del pagamento dell'importo unitario di $1$€.\n",
        "\n",
        ". . .\n",
        "\n",
        "Ad esempio, scommettendo $10$€ sulla vittoria della Juventus nella partita contro il Chievo del 30 Agosto 2014, si sarebbero ottenuti $15$€, dato che la quota era di $1.50$.\n",
        "\n",
        ". . .\n",
        "\n",
        "Se la scommessa fosse equa, le probabilità di vittoria, pareggio e sconfitta dovrebbero sommare ad $1$.\n",
        "\n",
        "Tuttavia, questo non accade: le probabilità ottenute sommano ad un valore $>1$. Tale discrepanza si chiama **allibramento** o **aggio** e garantisce al banco un guadagno.\n",
        "\n",
        "## Esercizio riassuntivo\n",
        "\n",
        "-   Si ottenga la variabile `aggio`, ottenuta come la differenza tra la somma delle \"probabilità\" dei $3$ eventi (vittoria, pareggio, sconfitta) ed $1$, ovvero il caso equo.\n",
        "\n",
        "-   Si dica qual è l'aggio associato alla partita Udinese-Parma del 1 Settembre 2013.\n",
        "\n",
        "-   Si dica in quali partite è stato applicato il più basso ed il più alto aggio e si identifichino tali valori.\n",
        "\n",
        "-   In quale partita è stato applicato l'aggio più alto nel campionato di Serie A del 2009/2010?\n",
        "\n",
        "::: callout-tip\n",
        "#### Suggerimento\n",
        "\n",
        "Si usino i comandi `which.min` e `which.max`. Si consulti la documentazione per capirne il funzionamento.\n",
        ":::\n",
        "\n",
        "#### Soluzione"
      ]
    },
    {
      "cell_type": "code",
      "metadata": {},
      "source": [
        "# Calcolo dell'aggio\n",
        "calcio$aggio <- 1 / calcio$B365H + 1 / calcio$B365D + 1 / calcio$B365A - 1\n",
        "\n",
        "# Aggio associato a Udinese-Parma del 1 Settembre 2013\n",
        "subset(calcio, Date == \"2013-09-01\" & HomeTeam == \"Udinese\")\n",
        "\n",
        "# Minimo e massimo aggio\n",
        "calcio[which.min(calcio$aggio), ]\n",
        "calcio[which.max(calcio$aggio), ]\n",
        "\n",
        "# Il campionato di Serie A inizia a fine Agosto e finisce a fine Maggio\n",
        "calcio2009_2010 <- subset(calcio, Date <= \"2009-08-15\" & Date <= \"2010-06-15\")\n",
        "calcio2009_2010[which.max(calcio2009_2010$aggio), ]"
      ],
      "execution_count": null,
      "outputs": []
    }
  ],
  "metadata": {
    "kernelspec": {
      "name": "ir",
      "language": "R",
      "display_name": "R"
    }
  },
  "nbformat": 4,
  "nbformat_minor": 4
}