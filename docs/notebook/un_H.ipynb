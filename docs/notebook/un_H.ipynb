{
  "cells": [
    {
      "cell_type": "raw",
      "metadata": {},
      "source": [
        "---\n",
        "title: \"R per l'analisi statistica multivariata\"\n",
        "subtitle: \"Unità H: variabili aleatorie\"\n",
        "author: \"Tommaso Rigon\"\n",
        "institute: \"Università Milano-Bicocca\"\n",
        "editor: visual\n",
        "execute:\n",
        "  echo: true\n",
        "  warning: true\n",
        "editor_options: \n",
        "  chunk_output_type: console\n",
        "---"
      ]
    },
    {
      "cell_type": "markdown",
      "metadata": {},
      "source": [
        "## Argomenti affrontati\n",
        "\n",
        "-   Variabili aleatorie discrete\n",
        "-   Variabili aleatorie continue\n",
        "-   Simulazione di valori (pseudo) casuali\n",
        "\n",
        "::: callout-note\n",
        "#### Nota\n",
        "\n",
        "Gli esercizi **R** associati sono disponibili a [questo link](https://tommasorigon.github.io/introR/exe/es_3.html)\n",
        ":::\n",
        "\n",
        "## Variabili aleatorie (ripasso)\n",
        "\n",
        "La **definizione formale** di una **variabile aleatoria** coinvolge concetti di teoria della misura ($\\sigma$-algebre, misure di probabilità, etc), che lasceremo sullo sfondo.\n",
        "\n",
        "Ai fini di questo corso, ci è sufficiente ricordare che una variabile aleatoria $X$ a valori reali è univocamente identificata dalla sua **funzione di ripartizione**, ovvero $$\n",
        "F(x) := \\mathbb{P}(X \\le x).\n",
        "$$\n",
        "\n",
        "Se la funzione $F(x)$ è costante a tratti, diremo che $X$ è una variabile aleatoria **discreta**.\n",
        "\n",
        "Se la funzione $F(x)$ è continua, diremo che $X$ è una variabile aleatoria **continua**.\n",
        "\n",
        "::: callout-tip\n",
        "#### Suggerimento\n",
        "\n",
        "Nel caso non vi ricordaste la definizione di una variabile aleatoria è bene ricontrollare libri e appunti del corso Calcolo delle Probabilità!\n",
        ":::\n",
        "\n",
        "## Variabili aleatorie discrete I (ripasso)\n",
        "\n",
        "Come anticipato, una variabile aleatoria si dice discreta se $F(x)$ è costante a tratti.\n",
        "\n",
        "Più precisamente, diremo che $X$ è una variabile aleatoria discreta se esiste un insieme di **cardinalità numerabile** $\\mathcal{S} \\subseteq \\mathbb{R}$, chiamato **supporto**, tale per cui $$\n",
        "\\mathbb{P}(X \\in \\mathcal{S}) = \\sum_{x \\in \\mathcal{S}} \\mathbb{P}(X = x) = 1.\n",
        "$$\n",
        "\n",
        "In pratica, spesso avremo che il supporto $\\mathcal{S} \\subseteq \\{0, 1, 2, \\dots\\}$ è un sotto-insieme dei numeri naturali. Inoltre, il supporto $\\mathcal{S}$ può essere **finito**.\n",
        "\n",
        "Intuitivamente, diremo che la variabile aleatoria $X$ può assumere solamente i valori del supporto $\\mathcal{S}$.\n",
        "\n",
        "## Variabili aleatorie discrete II (ripasso)\n",
        "\n",
        "La **funzione di probabilità** di una variabile aleatoria discreta è pari a $$\n",
        "p(x) = \\mathbb{P}(X = x).\n",
        "$$\n",
        "\n",
        "La funzione $p(x)$ **identifica** una variabile aleatoria discreta.\n",
        "\n",
        "Pertanto, ovviamente, vale che $p(x) \\ge 0$ e che $\\sum_{x \\in \\mathcal{S}} p(x) = 1$.\n",
        "\n",
        "Il **valore atteso** di una variabile aleatoria è inoltre definito, se esiste, come $$\n",
        "\\mathbb{E}(X) = \\sum_{x \\in \\mathcal{S}} x \\: p(x). \n",
        "$$\n",
        "\n",
        "Più in generale, il valore atteso di una trasformazione $g(X)$, se esiste, è pari a $$\n",
        "\\mathbb{E}\\{g(X)\\} = \\sum_{x \\in \\mathcal{S}} g(x) \\: p(x).\n",
        "$$\n",
        "\n",
        "## Distribuzione binomiale (funzione di probabilità)\n",
        "\n",
        "Sia $X \\sim \\text{Bin}(n, \\pi)$ una variabile aleatoria **binomiale**, per cui la funzione di probabilità è $$\n",
        "\\mathbb{P}(X = k) = {n \\choose k } \\pi^k (1-\\pi)^{n-k}, \\qquad k=0,1,\\dots,n.\n",
        "$$\n",
        "\n",
        "Supponendo che $n = 10$ e $\\pi = 0.6$, allora $\\mathbb{P}(X=4)$ si calcola come segue:"
      ]
    },
    {
      "cell_type": "code",
      "metadata": {},
      "source": [
        "n <- 10 # Numero di tentativi\n",
        "p <- 0.6 # Probabilità di successo\n",
        "k <- 4 # Numero di successi\n",
        "\n",
        "choose(n, k) * p^k * (1 - p)^(n - k)"
      ],
      "execution_count": null,
      "outputs": []
    },
    {
      "cell_type": "markdown",
      "metadata": {},
      "source": [
        "Tuttavia, in **R** esiste una funzione apposita per il calcolo della funzione di probabilità:"
      ]
    },
    {
      "cell_type": "code",
      "metadata": {},
      "source": [
        "dbinom(k, size = n, prob = p)"
      ],
      "execution_count": null,
      "outputs": []
    },
    {
      "cell_type": "markdown",
      "metadata": {},
      "source": [
        "## Distribuzione binomiale (funzione di ripartizione)\n",
        "\n",
        "In maniera simile, possiamo anche calcolare la probabilità seguente, ovvero\n",
        "\n",
        "$$\n",
        "F(x) =   \\mathbb{P}(X \\le x) = \\sum_{k=0}^x\\mathbb{P}(X = k), \\qquad X \\sim \\text{Bin}(n, \\pi).\n",
        "$$\n",
        "\n",
        "Supponendo che $n = 10$ e $\\pi = 0.6$, allora il valore $F(5)$ si calcola come segue:"
      ]
    },
    {
      "cell_type": "code",
      "metadata": {},
      "source": [
        "sum(dbinom(0:5, size = n, prob = p))\n",
        "pbinom(5, size = n, prob = p) # Funzione specifica di R"
      ],
      "execution_count": null,
      "outputs": []
    },
    {
      "cell_type": "markdown",
      "metadata": {},
      "source": [
        "Supponiamo di essere invece interessati all'evento complementare, ovvero: $$\n",
        "\\mathbb{P}(X > 5) = 1 - \\mathbb{P}(X \\le 5).\n",
        "$$"
      ]
    },
    {
      "cell_type": "code",
      "metadata": {},
      "source": [
        "1 - pbinom(5, size = n, prob = p)\n",
        "pbinom(5, size = n, prob = p, lower.tail = FALSE)"
      ],
      "execution_count": null,
      "outputs": []
    },
    {
      "cell_type": "markdown",
      "metadata": {},
      "source": [
        "## Distribuzione binomiale (valore atteso)\n",
        "\n",
        "Il **valore atteso** di una variabile aleatoria binomiale è pari a\n",
        "\n",
        "$$\n",
        "\\mathbb{E}(X) = \\sum_{k=0}^n k \\: \\mathbb{P}(X = k) =  np, \\qquad X \\sim \\text{Bin}(n,p).\n",
        "$$\n",
        "\n",
        "Supponendo come in precedenza che $n = 10$ e $\\pi = 0.6$, si ha che:"
      ]
    },
    {
      "cell_type": "code",
      "metadata": {},
      "source": [
        "n * p # Valore atteso ottenuto tramite calcoli analitici\n",
        "sum(0:n * dbinom(0:n, size = n, prob = 0.6)) # Calcolo numerico"
      ],
      "execution_count": null,
      "outputs": []
    },
    {
      "cell_type": "markdown",
      "metadata": {},
      "source": [
        "Tramite il calcolo diretto, possiamo inoltre valutare ad esempio $\\mathbb{E}(\\sqrt{X})$, infatti:"
      ]
    },
    {
      "cell_type": "code",
      "metadata": {},
      "source": [
        "sum(sqrt(0:n) * dbinom(0:n, size = n, prob = 0.6))"
      ],
      "execution_count": null,
      "outputs": []
    },
    {
      "cell_type": "markdown",
      "metadata": {},
      "source": [
        "::: callout-note\n",
        "#### Nota\n",
        "\n",
        "Il calcolo del valore atteso è \"semplice\" quando il supporto della distribuzione discreta è finito.\n",
        ":::\n",
        "\n",
        "## Distribuzione binomiale (quantili)\n",
        "\n",
        "Il **quantile**-$p$ una distribuzione discreta è il più piccolo valore $k$ tale $\\mathbb{P}(X \\le k) \\ge p$. Quindi: $$\n",
        "\\mathcal{Q}(p) = \\inf\\{x \\in \\mathbb{R} : F(x) \\ge p \\}.\n",
        "$$\n",
        "\n",
        "Supponendo che $X \\sim \\text{Bin}(10, 0.6)$, ad esempio il **primo quartile** è\n",
        "\n",
        "$$\n",
        "\\mathcal{Q}(0.25) = \\inf\\{x \\in \\mathbb{R} : F(x) \\ge 0.25 \\} = 5.\n",
        "$$\n",
        "\n",
        "In **R** possiamo ottenere questi risultati come segue:"
      ]
    },
    {
      "cell_type": "code",
      "metadata": {},
      "source": [
        "qbinom(0.25, size = 10, prob = 0.6) # Primo quartile"
      ],
      "execution_count": null,
      "outputs": []
    },
    {
      "cell_type": "markdown",
      "metadata": {},
      "source": [
        "Infatti, vale che:"
      ]
    },
    {
      "cell_type": "code",
      "metadata": {},
      "source": [
        "pbinom(4, size = 10, prob = 0.6) # Il valore è minore di 0.25\n",
        "pbinom(5, size = 10, prob = 0.6) # Il valore è maggiore di 0.25"
      ],
      "execution_count": null,
      "outputs": []
    },
    {
      "cell_type": "markdown",
      "metadata": {},
      "source": [
        "## Distribuzione binomiale (rappresentazione grafica)"
      ]
    },
    {
      "cell_type": "code",
      "metadata": {},
      "source": [
        "kk <- 0:n\n",
        "prob <- dbinom(0:n, size = n, prob = p)\n",
        "plot(kk, prob, type = \"h\", main = \"Bin(10,0.6)\", xlab = \"k\", ylab = \"P(X=k)\")"
      ],
      "execution_count": null,
      "outputs": []
    },
    {
      "cell_type": "markdown",
      "metadata": {},
      "source": [
        "## Variabili aleatorie continue I (ripasso)\n",
        "\n",
        "Una variabile aleatoria si dice **continua** se $F(x)$ è continua.\n",
        "\n",
        "La funzione di **densità** di una variabile aleatoria continua è una funzione $f(x) \\ge 0$ tale per cui $$\n",
        "\\mathbb{P}(a < X < b) = \\int_a^b f(x) \\mathrm{d} x, \\qquad f(x) = \\frac{\\partial}{\\partial x} F(x). \n",
        "$$\n",
        "\n",
        "Pertanto, per definizione: $$\n",
        "\\mathbb{P}(X \\le b) = F(b) = \\int_{-\\infty}^b f(x) \\mathrm{d} x.\n",
        "$$\n",
        "\n",
        "Inoltre, il **valore atteso** di una trasformazione $g(X)$, se esiste, è pari a $$\n",
        "\\mathbb{E}\\{g(X)\\} = \\int_{\\mathbb{R}} g(x) \\: f(x) \\mathrm{d} x.\n",
        "$$\n",
        "\n",
        "## Distribuzione normale (funzione di densità)\n",
        "\n",
        "Sia $X \\sim \\text{N}(\\mu, \\sigma^2)$ una **variabile gaussiana** di media $\\mu$ e varianza $\\sigma^2$, ovvero avente densità $$\n",
        "f(x) = \\frac{1}{\\sqrt{2 \\pi \\sigma^2}}\\exp\\left\\{-\\frac{1}{2\\sigma^2}(x - \\mu)^2\\right\\}.\n",
        "$$\n",
        "\n",
        "Se $X \\sim \\text{N}(3, 10)$ allora possiamo calcolare il valore $f(1)$ utilizzando i comandi di **R**:"
      ]
    },
    {
      "cell_type": "code",
      "metadata": {},
      "source": [
        "x <- 1 # Punto in cui calcolare f(x)\n",
        "mu <- 3 # Media\n",
        "sigma2 <- 10 # Varianza\n",
        "\n",
        "1 / sqrt(2 * pi * sigma2) * exp(-1 / (2 * sigma2) * (x - mu)^2)\n",
        "dnorm(x, mean = 3, sd = sqrt(sigma2))"
      ],
      "execution_count": null,
      "outputs": []
    },
    {
      "cell_type": "markdown",
      "metadata": {},
      "source": [
        "::: callout-note\n",
        "#### Nota\n",
        "\n",
        "Il comando `dnorm` ha come argomento lo scarto quadratico medio $\\sigma$, non la varianza $\\sigma^2$.\n",
        ":::\n",
        "\n",
        "## Distribuzione normale (funzione di ripartizione)\n",
        "\n",
        "Sia $X \\sim \\text{N}(0,1)$ una **normale standard**. Siamo interessati a calcolare la probabilità dell'evento seguente: $$\n",
        "\\mathbb{P}(|X| \\le 1) = \\mathbb{P}(-1 \\le X \\le 1) = \\mathbb{P}(X \\le 1) - \\mathbb{P}(X < -1).\n",
        "$$\n",
        "\n",
        "Possiamo calcolare questa probabilità (in modo inefficiente) tramite il comando **integrate**, pertanto:"
      ]
    },
    {
      "cell_type": "code",
      "metadata": {},
      "source": [
        "integrate(dnorm, lower = -1, upper = 1)"
      ],
      "execution_count": null,
      "outputs": []
    },
    {
      "cell_type": "markdown",
      "metadata": {},
      "source": [
        "Trattandosi di una variabile continua, otteniamo che $\\mathbb{P}(X < -1) = \\mathbb{P}(X \\le -1)$.\n",
        "\n",
        "Quindi, possiamo calcolare questa probabilità in **R** utilizzando i comandi appositi:"
      ]
    },
    {
      "cell_type": "code",
      "metadata": {},
      "source": [
        "pnorm(1) - pnorm(-1)"
      ],
      "execution_count": null,
      "outputs": []
    },
    {
      "cell_type": "markdown",
      "metadata": {},
      "source": [
        "## Distribuzione normale (funzione quantile)\n",
        "\n",
        "La continuità della funzione di ripartizione $F(x)$ implica che la **funzione quantile** è pari a $\\mathcal{Q}(\\cdot) = F^{-1}(\\cdot)$.\n",
        "\n",
        "Per esempio, si consideri il terzo quartile di una distribuzione normale standard, ovvero"
      ]
    },
    {
      "cell_type": "code",
      "metadata": {},
      "source": [
        "qnorm(0.75)"
      ],
      "execution_count": null,
      "outputs": []
    },
    {
      "cell_type": "markdown",
      "metadata": {},
      "source": [
        "Di conseguenza, la funzione quantile e di ripartizione sono tale per cui $$\n",
        "F(\\mathcal{Q}(0.75)) = F(F^{-1}(0.75))= 0.75.\n",
        "$$\n",
        "\n",
        "Infatti:"
      ]
    },
    {
      "cell_type": "code",
      "metadata": {},
      "source": [
        "pnorm(qnorm(0.75))"
      ],
      "execution_count": null,
      "outputs": []
    },
    {
      "cell_type": "markdown",
      "metadata": {},
      "source": [
        "## Distribuzione normale (rappresentazione grafica)"
      ]
    },
    {
      "cell_type": "code",
      "metadata": {},
      "source": [
        "curve(dnorm(x, mean = 0, sd = 1), from = -3, to = 3, ylab = \"f(x)\", main = \"N(0,1)\")"
      ],
      "execution_count": null,
      "outputs": []
    },
    {
      "cell_type": "markdown",
      "metadata": {},
      "source": [
        "## Tabella riassuntiva I\n",
        "\n",
        "**R** dispone di un'estesa **collezione di funzioni** dedicate alle principali distribuzioni di probabilità. Sia $X$ una variabile casuale.\n",
        "\n",
        "-   `ddist` (dove la `d` iniziale sta per **density**). Calcola la **densità** $f(x)$ di una variabile continua $X$ oppure la funzione di probabilità $p(x) = \\mathbb{P}(X = x)$ nel caso $X$ sia discreta.\n",
        "\n",
        "-   `pdist` (dove la `p` iniziale sta per **probability**), che permette di calcolare il valore della **funzione di ripartizione** in un punto specificato, ovvero calcola $F(x) = \\mathbb{P}(X \\le x)$.\n",
        "\n",
        "-   `qdist` (dove la `q` iniziale sta per **quantile**), che rappresenta la **funzione quantile**, ovvero: $$\n",
        "    \\mathcal{Q}(p) = \\inf\\{x \\in \\mathbb{R} : F(x) \\ge p\\}, \\qquad p \\in (0,1).\n",
        "    $$\n",
        "\n",
        "-   `rdist` (dove la `r` iniziale sta per **random**), che permette di generare numeri **pseudo-casuali**, che verranno illustrati nel seguito.\n",
        "\n",
        "## Tabella riassuntiva II\n",
        "\n",
        "| Distribuzione | Comando | Parametri       | Default  |\n",
        "|---------------|---------|-----------------|----------|\n",
        "| Binomiale     | `binom` | `size`, `prob`  | \\-       |\n",
        "| Geometrica    | `geom`  | `prob`          | \\-       |\n",
        "| Poisson       | `pois`  | `lambda`        | \\-       |\n",
        "| Uniforme      | `unif`  | `min`, `max`    | `0`, `1` |\n",
        "| Gamma         | `gamma` | `shape`, `rate` | -, `1`   |\n",
        "| Esponenziale  | `exp`   | `rate`          | `1`      |\n",
        "| Chi-quadrato  | `chisq` | `df`            | \\-       |\n",
        "| Normale       | `norm`  | `mean`, `sd`    |          |\n",
        "\n",
        "::: callout-caution\n",
        "Attenzione alla parametrizzazioni e/o ai significati degli argomenti. Si consulti la documentazione per sapere come sono definiti.\n",
        ":::\n",
        "\n",
        "::: callout-note\n",
        "#### Esercizio\n",
        "\n",
        "Si rappresentino graficamente tutte le precedenti distribuzioni, per diverse scelte dei parametri.\n",
        ":::\n",
        "\n",
        "## Numeri pseudo-casuali I\n",
        "\n",
        "La quarta classe di funzioni nella nostra lista è quella del tipo `rdist`, che permette quindi di ottenere dei **valore casuali** da una distribuzione.\n",
        "\n",
        "Per esempio, per campionare $5$ valori indipendenti e identicamente distribuiti (iid) da una normale standard, ovvero $$\n",
        "X_i \\overset{\\text{iid}}{\\sim} \\text{N}(0,1), \\qquad i=1,\\dots,5\n",
        "$$ possiamo usare in **R** il comando seguente:"
      ]
    },
    {
      "cell_type": "code",
      "metadata": {},
      "source": [
        "R <- 5\n",
        "rnorm(R, mean = 0, sd = 1)"
      ],
      "execution_count": null,
      "outputs": []
    },
    {
      "cell_type": "markdown",
      "metadata": {},
      "source": [
        "## Numeri pseudo-casuali II\n",
        "\n",
        "I valori generati dal comando `rdist` imitano i risultati di un processo casuale, ma sono in realtà **deterministici**. Tali valori sono quindi chiamati **pseudo-casuali**.\n",
        "\n",
        "Esistono in realtà dei metodi per generare numeri **davvero casuali**, basate ad esempio su rilevazioni atmosferiche.\n",
        "\n",
        "Al sito <https://www.random.org/gaussian-distributions/> è possibile ottenere un numero limitato di valori casuali da una distribuzione gaussiana.\n",
        "\n",
        "Lo svantaggio di quest'ultima classe di metodi è che sono relativamente **costosi** da ottenere $\\implies$ ne vale la pena?\n",
        "\n",
        "A meno che non sussistano specifici problemi di sicurezza, i numeri pseudo-casuali costituiscono lo **standard** usato dalla quasi totalità degli utenti.\n",
        "\n",
        "## Numeri pseudo-casuali in $(0,1)$\n",
        "\n",
        "Supponiamo di saper simulare dei valori $U_1,\\dots,U_n$ da una **distribuzione uniforme** in $(0,1)$, ovvero quanto si ottiene ad esempio tramite il comando `runif`.\n",
        "\n",
        "Possiamo \"facilmente\" ottenere i valori casuali di una qualsiasi distribuzione considerando un'opportuna trasformazione dei valori $U_1,\\dots,U_n$.\n",
        "\n",
        "La **parte difficile** è quindi simulare valori pseudo-casuali $U_1,\\dots,U_n$ in maniera tale che questi assomiglino il più possibile a realizzazioni iid da una distribuzione uniforme.\n",
        "\n",
        "Trattandosi di numeri pseudo-casuali, siamo quindi alla ricerca di un vero e proprio **algoritmo** che a partire da delle condizioni iniziali, produca $U_1,\\dots,U_n$.\n",
        "\n",
        "La condizione iniziale viene tipicamente chiamata **seme** (`seed`).\n",
        "\n",
        "## Numeri pseudo-casuali in $(0,1)$\n",
        "\n",
        "Presentiamo un metodo molto semplice per generare numeri pseudo-casuali (Wichmann & Hill, 1982), che tuttavia è stato molto popolare negli anni '80 e '90.\n",
        "\n",
        "![](img/winchman.png)\n",
        "\n",
        "## Algoritmo Wichmann & Hill (1982)\n",
        "\n",
        "Vogliamo ottenere delle realizzazioni $u_1,\\dots, u_n$ da una distribuzione uniforme $(0,1)$.\n",
        "\n",
        "-   **Inizializzazione**. Si parte da tre numeri interi qualsiasi $x_0, y_0, z_0$, che costituiscono la condizione iniziale, il cosiddetto **seed**.\n",
        "\n",
        "-   **Aggiornamento iterativo** del seme. A ciascuna iterazione, si aggiornano i $3$ numeri $x_i, y_i, z_i$ a partire da quelli ottenuti alla iterazione precedente: $$\n",
        "      \\begin{aligned}\n",
        "      x_i = (171 \\times x_{i-1})(\\text{mod}\\:30269) \\\\\n",
        "      y_i = (172 \\times y_{i-1})(\\text{mod}\\:30307) \\\\\n",
        "      z_i = (170 \\times z_{i-1})(\\text{mod}\\:30323) \\\\\n",
        "      \\end{aligned}\n",
        "    $$ per ogni $i=1,\\dots,n$. La funzione $\\text{mod}$ (equivalente a `%%` in **R**) calcola il **resto**, per cui ad esempio $205 (\\text{mod}\\:10) = 5$.\n",
        "\n",
        "-   **Output**. Si ottiene una sequenza di realizzazioni come segue: $$\n",
        "    u_i = \\left(\\frac{x_i}{30269} + \\frac{y_i}{30307} + \\frac{z_i}{30323} \\right)(\\text{mod}\\: 1), \\qquad i=1,\\dots,n.\n",
        "    $$\n",
        "\n",
        "## Algoritmo Wichmann & Hill (1982)\n",
        "\n",
        "L'algoritmo pertanto aggiorna **iterativamente** la condizione iniziale (`seed`). I valori finali $x_n, y_n, z_n$ possono essere usati come `seed` per estrazioni successive.\n",
        "\n",
        "Non c'è nulla di \"casuale\" in questa sequenza di numeri. Per definizione, se i tre numeri di partenza $x_0, y_0, z_0$ sono gli stessi, l'output sarà sempre uguale.\n",
        "\n",
        "Questo algoritmo ha **periodo** circa pari a $m = 6.95 \\times 10^{12}$. Pertanto $$\n",
        "u_{i + m} = u_i.\n",
        "$$\n",
        "\n",
        "Pertanto, se eseguissimo questo metodo per un tempo sufficientemente lungo, la sequenza di numeri ottenuti è destinata a ripetersi!\n",
        "\n",
        "Una sequenza che si ripete è un problema? In teoria si, in pratica $m$ negli algoritmi moderni ($m \\approx 2^{19937}$) è talmente grande che questo fattore è trascurabile.\n",
        "\n",
        "::: callout-note\n",
        "#### Nota\n",
        "\n",
        "La sequenza ottenuta andrebbe **testata** per verificare che in effetti \"sembri\" casuale ed uniforme in $(0,1)$.\n",
        ":::\n",
        "\n",
        "## Algoritmo Wichmann & Hill (1982)"
      ]
    },
    {
      "cell_type": "code",
      "metadata": {},
      "source": [
        "runif.wh <- function(n) {\n",
        "  a <- c(171, 172, 170)\n",
        "  b <- c(30269, 30307, 30323)\n",
        "  s <- .current.seed # Il seed corrent è presente nel \"global environment\"\n",
        "  u <- rep(0, n) # Inizializzazione dell'output\n",
        "  for (i in 1:n) {\n",
        "    s <- (a * s) %% b\n",
        "    u[i] <- sum(s / b) %% 1\n",
        "  }\n",
        "  .current.seed <<- s # Salva il seed finale nel \"global environment\"\n",
        "  u\n",
        "}\n",
        "\n",
        ".current.seed <- c(123, 456, 789)\n",
        "runif.wh(5)\n",
        "\n",
        ".current.seed"
      ],
      "execution_count": null,
      "outputs": []
    },
    {
      "cell_type": "markdown",
      "metadata": {},
      "source": [
        "## Simulazione di variabili discrete\n",
        "\n",
        "Supponiamo di voler estrarre dei valori iid $X_1,\\dots,X_n$ da una **legge discreta**.\n",
        "\n",
        "Per semplicità, assumiamo che il supporto $\\mathcal{S} = \\{x_1, \\dots, x_K\\}$ sia finito e che $(\\pi_1,\\dots,\\pi_K)$ siano le probabilità associate, per cui $$\n",
        "\\mathbb{P}(X_i = x_k) = \\pi_k, \\qquad k=1,\\dots,K. \n",
        "$$\n",
        "\n",
        "A partire dalle variabili uniformi $U_1,\\dots,U_n$ in $(0,1)$ è semplice ottenere $X_1,\\dots,X_n$.\n",
        "\n",
        "Dividiamo l'intervallo $(0,1)$ in $K$ sotto-intervalli, ciascuno di lunghezza $\\pi_k$. Il valore $X_i$ corrisponde al valore associato all'intervallo a cui $U_i$ appartiene.\n",
        "\n",
        "Infatti, sia $a_0 = 0$ e $(a_{k-1}, a_k)$ il $k$-esimo intervallo tale che $a_k - a_{k-1} = \\pi_k$. Allora $$\n",
        "\\mathbb{P}(a_{k-1} < U_i < a_k) = \\pi_k \\implies \\mathbb{P}(X_i = x_k) = \\pi_k,\n",
        "$$ per $k=1,\\dots,K$.\n",
        "\n",
        "## Esempio: distribuzione binomiale\n",
        "\n",
        "Possiamo sfruttare la nostra funzione `runif.wh` per ottenere valori pseudo-casuali da una distribuzione binomiale."
      ]
    },
    {
      "cell_type": "code",
      "metadata": {},
      "source": [
        "rbinom.wh <- function(n, size, prob) {\n",
        "  u <- runif.wh(n)\n",
        "  probs <- dbinom(0:size, size = size, prob = prob)\n",
        "  breaks <- cumsum(c(0, probs))\n",
        "  as.numeric(cut(u, breaks)) - 1 # Converte la variabile \"factor\" in numeri interi\n",
        "}\n",
        "\n",
        ".current.seed <- c(100, 200, 300)\n",
        "rbinom.wh(20, size = 5, prob = 0.5)"
      ],
      "execution_count": null,
      "outputs": []
    },
    {
      "cell_type": "markdown",
      "metadata": {},
      "source": [
        "::: callout-note\n",
        "#### Nota\n",
        "\n",
        "Questo codice è riportato a soli fini didattici. In realtà, esistono modi più intelligenti (e molto più veloci!) per ottenere questo risultato.\n",
        ":::\n",
        "\n",
        "## Esempio: il lancio di un dado a sei facce\n",
        "\n",
        "Un **dado a sei facce** rappresenta una variabile casuale discreta $X$ con funzione di probabilità chiamata **Uniforme Discreta**, ovvero\n",
        "\n",
        "$$\n",
        "\\mathbb{P}(X = k) = \\frac{1}{6}, \\qquad k=1,\\dots,6.\n",
        "$$\n",
        "\n",
        "Per simulare lancio di un dado a sei facce, costruiamo anzitutto un vettore contenente una **sequenza di numeri** da 1 a 6 corrispondenti ai possibili esiti del lancio."
      ]
    },
    {
      "cell_type": "code",
      "metadata": {},
      "source": [
        "dice <- 1:6"
      ],
      "execution_count": null,
      "outputs": []
    },
    {
      "cell_type": "markdown",
      "metadata": {},
      "source": [
        "Possiamo usare il comando `sample` per effettuare il lancio:"
      ]
    },
    {
      "cell_type": "code",
      "metadata": {},
      "source": [
        "set.seed(123) # Comando di R per identificare il \"seed\"\n",
        "sample(x = dice, size = 1) # size = 1 implica che viene lanciato un solo dado"
      ],
      "execution_count": null,
      "outputs": []
    },
    {
      "cell_type": "markdown",
      "metadata": {},
      "source": [
        "::: callout-note\n",
        "#### Nota\n",
        "\n",
        "Il comando `set.seed(numero)` è il comando che consente di fissare il seme in **R**.\n",
        ":::\n",
        "\n",
        "## Il comando `sample`\n",
        "\n",
        "Più in generale, la funzione `sample(x, size, replace, prob)` estrae casualmente un numero `size` di elementi da un'**urna** contenente gli oggetti `x`\n",
        "\n",
        "-   con reinserimento, se `replace = TRUE`;\n",
        "-   senza reinserimento, se `replace = FALSE`.\n",
        "\n",
        "Se l'argomento `prob` non viene specificato, la funzione `sample` assegna ad ogni elemento di `x` uguale probabilità.\n",
        "\n",
        "Se volessimo campionare con `probabilità non uniformi`, dovremmo indicare un vettore di probabilità di lunghezza pari agli elementi di `x` (provate per esercizio!)\n",
        "\n",
        "## Campionamento con reinserimento\n",
        "\n",
        "Il campionamento con reinserimento equivale a fare $n$ estrazioni indipendenti dalla stessa variabile aleatoria $X$. Pertanto, per lanciare lo stesso dado $10$ volte:"
      ]
    },
    {
      "cell_type": "code",
      "metadata": {},
      "source": [
        "set.seed(140)\n",
        "n <- 10\n",
        "# replace = TRUE implica che il dado è lanciato 10 volte\n",
        "sim <- sample(dice, size = n, replace = TRUE)\n",
        "sim"
      ],
      "execution_count": null,
      "outputs": []
    },
    {
      "cell_type": "markdown",
      "metadata": {},
      "source": [
        "## Campionamento senza reinserimento\n",
        "\n",
        "Per effettuare una ipotetica estrazione del Lotto, si devono estrarre da un'urna 5 numeri, tra l'1 e il 90, **senza reinserimento**.\n",
        "\n",
        "In **R** quindi:"
      ]
    },
    {
      "cell_type": "code",
      "metadata": {},
      "source": [
        "sample(1:90, size = 5, replace = FALSE)"
      ],
      "execution_count": null,
      "outputs": []
    },
    {
      "cell_type": "markdown",
      "metadata": {},
      "source": [
        "Se specifichiamo solamente il seguente comando:"
      ]
    },
    {
      "cell_type": "code",
      "metadata": {},
      "source": [
        "sample(dice)"
      ],
      "execution_count": null,
      "outputs": []
    },
    {
      "cell_type": "markdown",
      "metadata": {},
      "source": [
        "otteniamo una **permutazione** casuale degli elementi di `x`.\n",
        "\n",
        "Infatti, i valore predefiniti sono `replace = FALSE` e `size = length(x)`, ovvero un campionamento `senza reinserimento` di tutti gli elementi dell'urna.\n",
        "\n",
        "## Il metodo dell'inversione\n",
        "\n",
        "Sia $X$ una variabile aleatoria con funzione di ripartizione $F(x)$ e funzione quantile $$\n",
        "\\mathcal{Q}(p) = \\inf\\{x \\in \\mathbb{R} : F(x) \\ge p \\}.\n",
        "$$\n",
        "\n",
        "Inoltre, sia $U \\sim U(0,1)$. Allora, vale che\n",
        "\n",
        "$$\n",
        "X \\overset{d}{=} \\mathcal{Q}(U). \n",
        "$$\n",
        "\n",
        "#### Dimostrazione (schema)\n",
        "\n",
        "$$\n",
        "\\mathbb{P}(Q(U) \\le x) =  \\mathbb{P}(U \\le F(x)) = F(x).\n",
        "$$\n",
        "\n",
        "::: .callout-note\n",
        "#### Risultato chiave\n",
        "\n",
        "Se la funzione quantile $\\mathcal{Q}(p)$ è facile da calcolare, per simulare una variabile aleatoria è quindi sufficiente simulare $U \\sim U(0,1)$ e poi calcolare $\\mathcal{Q}(U)$.\n",
        ":::\n",
        "\n",
        "## Il metodo dell'inversione: distribuzione gaussiana\n",
        "\n",
        "Supponiamo di voler generare dei valori $X_1,\\dots, X_n$ da una distribuzione gaussiana.\n",
        "\n",
        "Possiamo usare il **metodo dell'inversione**, usando la funzione `qnorm`."
      ]
    },
    {
      "cell_type": "code",
      "metadata": {},
      "source": [
        "rnorm.wh <- function(n, mean, sd) {\n",
        "  u <- runif.wh(n)\n",
        "  qnorm(u, mean = mean, sd = sd)\n",
        "}\n",
        "\n",
        ".current.seed <- c(100, 200, 300)\n",
        "rnorm.wh(n = 10, mean = 0, sd = 1) # 10 valori da una normale standard"
      ],
      "execution_count": null,
      "outputs": []
    },
    {
      "cell_type": "markdown",
      "metadata": {},
      "source": [
        "::: callout-note\n",
        "#### Nota\n",
        "\n",
        "La funzione `qnorm` è lenta e non facile da calcolare. Esistono modi ben più efficienti per campionare da una gaussiana.\n",
        ":::\n",
        "\n",
        "## Il metodo dell'inversione: distribuzione binomiale\n",
        "\n",
        "Supponiamo di voler generare dei valori $X_1,\\dots, X_n$ da una distribuzione binomiale.\n",
        "\n",
        "Possiamo usare anche in questo caso il **metodo dell'inversione**, usando la funzione **qnorm**."
      ]
    },
    {
      "cell_type": "code",
      "metadata": {},
      "source": [
        "rbinom.wh2 <- function(n, size, prob) {\n",
        "  u <- runif.wh(n)\n",
        "  qbinom(u, size = size, prob = prob)\n",
        "}\n",
        "\n",
        ".current.seed <- c(100, 200, 300)\n",
        "rbinom.wh(n = 10, size = 5, prob = 0.5)\n",
        "\n",
        ".current.seed <- c(100, 200, 300)\n",
        "rbinom.wh2(n = 10, size = 5, prob = 0.5)"
      ],
      "execution_count": null,
      "outputs": []
    },
    {
      "cell_type": "markdown",
      "metadata": {},
      "source": [
        "::: callout-note\n",
        "#### Esercizio - proprietà\n",
        "\n",
        "Si dimostri che il metodo \"diretto\" per variabili discrete che abbiamo introdotto in precedenza coincide con il metodo dell'inversione.\n",
        ":::\n",
        "\n",
        "## Esercizio riassuntivo I\n",
        "\n",
        "La distribuzione continua chiamata **half-normal** ha la seguente densità: $$\n",
        "f(y) = \\frac{\\sqrt{2}}{\\sqrt{\\pi}} \\exp\\left\\{ - \\frac{y^2}{2}\\right\\}, \\qquad y > 0.\n",
        "$$\n",
        "\n",
        "Inoltre, è noto che se $X \\sim N(0,1)$ allora $Y = |X|$ segue una distribuzione half-normal.\n",
        "\n",
        "-   Si scriva in **R** la funzione `dhalf(y)` che calcola la densità $f(y)$.\n",
        "\n",
        "-   Si sviluppi una strategia per campionare dei valori pseudo-casuali da una half normal e la si implementi in **R**.\n",
        "\n",
        "::: callout-note\n",
        "## Nota\n",
        "\n",
        "In generale, si deduca come campionare una variabile aleatoria $Y$ tale che $Y = g(X)$, dove $X$ è una variabile aleatoria che è facile da campionare.\n",
        ":::\n",
        "\n",
        "#### Soluzione esercizio riassuntivo I\n",
        "\n",
        "Implementiamo in primo luogo la funzione `dhalf`, come richiesto:"
      ]
    },
    {
      "cell_type": "code",
      "metadata": {},
      "source": [
        "dhalf <- function(y) {\n",
        "  sqrt(2 / pi) * exp(-y^2 / 2)\n",
        "}\n",
        "\n",
        "# Non richiesto, controllo che integri a 1\n",
        "integrate(function(x) dhalf(x), 0, Inf)"
      ],
      "execution_count": null,
      "outputs": []
    },
    {
      "cell_type": "markdown",
      "metadata": {},
      "source": [
        "Per generare valori casuali da una **half-normal** è sufficiente generare valori pseudo-casuali da una normale standard e quindi considerarne il valore assoluto.\n",
        "\n",
        "In generale, se vale $Y = g(X)$ allora è sufficiente campionare i valori di $X$ e poi trasformarli.\n",
        "\n",
        "## Esercizio riassuntivo II\n",
        "\n",
        "La distribuzione continua **Weibull** ha la seguente densità: $$\n",
        "f(x) = \\alpha \\beta x^{\\beta - 1} \\exp\\left\\{- \\alpha x^\\beta \\right\\}, \\qquad x > 0. \n",
        "$$\n",
        "\n",
        "-   Si scriva in **R** la funzione `dweibull` che calcola la densità $f(x)$.\n",
        "\n",
        "-   Dopo averla ottenuta analiticamente, si implementi in **R** la funzione `pweibull` per la funzione di ripartizione $F(x)$.\n",
        "\n",
        "-   Dopo averla ottenuta analiticamente, si implementi in **R** la funzione `qweibull` per la funzione quantile $\\mathcal{Q}(p)$.\n",
        "\n",
        "-   Si sviluppi una strategia per campionare dei valori pseudo-casuali da una Weibull basata sul **metodo dell'inversione** e si implementi in **R** la funzione `rweibull`.\n",
        "\n",
        "#### Soluzione esercizio riassuntivo II\n",
        "\n",
        "Implementiamo in primo luogo la funzione `dweibull(x, alpha, beta)`:"
      ]
    },
    {
      "cell_type": "code",
      "metadata": {},
      "source": [
        "dweibull <- function(x, alpha, beta) {\n",
        "  alpha * beta * x^(beta - 1) * exp(-alpha * x^beta)\n",
        "}"
      ],
      "execution_count": null,
      "outputs": []
    },
    {
      "cell_type": "markdown",
      "metadata": {},
      "source": [
        "Ricordiamo che la funzione di ripartizione è pari a $$\n",
        "F(x) = \\int_0^xf(s) \\mathrm{d}s = \\alpha \\beta  \\int_0^x s^{\\beta - 1} \\exp\\left\\{- \\alpha s^\\beta \\right\\}\\mathrm{d}s =1 - e^{-\\alpha x^\\beta}, \\qquad x > 0.\n",
        "$$\n",
        "\n",
        "Quindi, invertendo $F(x)$, si ottiene che la funzione quantile è pari a $$\n",
        "\\mathcal{Q}(p) = F^{-1}(p) = \\left(-\\frac{\\log{(1-p)}}{\\alpha}\\right)^{1/\\beta},\n",
        "$$ per $p \\in (0,1)$."
      ]
    },
    {
      "cell_type": "code",
      "metadata": {},
      "source": [
        "pweibull <- function(x, alpha, beta) {\n",
        "  1 - exp(-alpha * x^beta)\n",
        "}\n",
        "\n",
        "qweibull <- function(p, alpha, beta) {\n",
        "  (-log(1 - p) / alpha)^(1 / beta)\n",
        "}\n",
        "\n",
        "rweibull <- function(R, alpha, beta) {\n",
        "  qweibull(runif(R), alpha, beta)\n",
        "}\n",
        "\n",
        "rweibull(10, 2, 2)"
      ],
      "execution_count": null,
      "outputs": []
    }
  ],
  "metadata": {
    "kernelspec": {
      "name": "ir",
      "language": "R",
      "display_name": "R"
    }
  },
  "nbformat": 4,
  "nbformat_minor": 4
}