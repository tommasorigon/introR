{
  "cells": [
    {
      "cell_type": "raw",
      "metadata": {},
      "source": [
        "---\n",
        "title: \"R per l'analisi statistica multivariata\"\n",
        "subtitle: \"Unità G: analisi descrittiva dei dati `titanic`\"\n",
        "author: \"Tommaso Rigon\"\n",
        "institute: \"Università Milano-Bicocca\"\n",
        "editor: visual\n",
        "execute:\n",
        "  echo: true\n",
        "  warning: true\n",
        "editor_options: \n",
        "  chunk_output_type: console\n",
        "---"
      ]
    },
    {
      "cell_type": "markdown",
      "metadata": {},
      "source": [
        "## Argomenti affrontati\n",
        "\n",
        "-   Dati qualitativi\n",
        "-   Tabelle di contingenza\n",
        "-   Distribuzioni condizionate\n",
        "-   Indipendenza e indice di connessione $\\chi^2$\n",
        "\n",
        "::: callout-note\n",
        "#### Nota\n",
        "\n",
        "Gli esercizi **R** associati sono disponibili a [questo link](https://tommasorigon.github.io/introR/exe/es_2.html)\n",
        ":::\n",
        "\n",
        "## Descrizione del problema\n",
        "\n",
        "Dopo il **disastro del Titanic**, una commissione d'inchiesta del *British Board of Trade* ha compilato una lista di tutti i 1316 passeggeri includendo le seguenti informazioni:\n",
        "\n",
        "-   l'esito (salvato, non salvato)\n",
        "-   la classe (I, II, III) in cui viaggiavano\n",
        "-   il sesso, l'età, etc.\n",
        "\n",
        "In questa unità ci limitiamo a considerare le informazioni sull'`esito` e la `classe`.\n",
        "\n",
        "::: callout-note\n",
        "#### Nota\n",
        "\n",
        "Ovviamente, si tratta degli stessi dati considerati nell'**unità O** del corso Statistica I.\n",
        ":::\n",
        "\n",
        "\n",
        "## Importazione dei dati `titanic`\n",
        "\n",
        "Come fatto in precedenza, anzitutto è necessario scaricare il file `titanic.csv` e salvarlo nel proprio computer. [Link al file](../dataset/titanic.csv)"
      ]
    },
    {
      "cell_type": "code",
      "metadata": {},
      "source": [
        "titanic <- read.table(\"../dataset/titanic.csv\", header = TRUE, sep = \",\", stringsAsFactors = TRUE)"
      ],
      "execution_count": null,
      "outputs": []
    },
    {
      "cell_type": "markdown",
      "metadata": {},
      "source": [
        "In alternativa, possiamo semplice ottenerli usando il link:"
      ]
    },
    {
      "cell_type": "code",
      "metadata": {},
      "source": [
        "#| eval: false\n",
        "path <- \"https://tommasorigon.github.io/introR/data/titanic.csv\"\n",
        "titanic <- read.table(path, header = TRUE, sep = \",\", stringsAsFactors = TRUE)"
      ],
      "execution_count": null,
      "outputs": []
    },
    {
      "cell_type": "code",
      "metadata": {},
      "source": [
        "str(titanic)"
      ],
      "execution_count": null,
      "outputs": []
    },
    {
      "cell_type": "markdown",
      "metadata": {},
      "source": [
        "## Le frequenze assolute e relative (marginali)\n",
        "\n",
        "Possiamo ottenere le frequenze assolute (marginali) delle due variabili usando il comando `summary`:"
      ]
    },
    {
      "cell_type": "code",
      "metadata": {},
      "source": [
        "summary(titanic)"
      ],
      "execution_count": null,
      "outputs": []
    },
    {
      "cell_type": "markdown",
      "metadata": {},
      "source": [
        "Ovviamente, possiamo ottenere le frequenze **assolute** e **relative** anche usando il comando `table`. Ad esempio per la variabile `classe`, possiamo utilizzare:"
      ]
    },
    {
      "cell_type": "code",
      "metadata": {},
      "source": [
        "freq_abs_classe <- table(titanic$Classe)\n",
        "freq_rel_classe <- freq_abs_classe / sum(freq_abs_classe)\n",
        "tab_summary <- cbind(freq_abs_classe, freq_rel_classe)\n",
        "tab_summary"
      ],
      "execution_count": null,
      "outputs": []
    },
    {
      "cell_type": "markdown",
      "metadata": {},
      "source": [
        "## Frequenze congiunte\n",
        "\n",
        "Una sintesi che possiamo operare consiste nel costruire una tabella, detta **tabella di contingenza** oppure **tabella a doppia entrata**.\n",
        "\n",
        "In **R** si usa anche in questo caso il comando `table`, con due argomenti:"
      ]
    },
    {
      "cell_type": "code",
      "metadata": {},
      "source": [
        "tab <- table(titanic$Salvato, titanic$Classe)\n",
        "tab"
      ],
      "execution_count": null,
      "outputs": []
    },
    {
      "cell_type": "markdown",
      "metadata": {},
      "source": [
        "In questa tabella sono riportate le **frequenze congiunte**, ad esempio, il valore $203$ rappresenta il numero di passeggeri che viaggiavano in I classe e che sono sopravvissuti.\n",
        "\n",
        "## Tabella di contingenza\n",
        "\n",
        "Siano $x$ ed $y$ due variabili aventi modalità $c_1,\\dots,c_h$ e $d_1,\\dots,d_k$, rispettivamente.\n",
        "\n",
        "Una **tabella di contingenza** (a due variabili) per le coppie di dati $(x_1,y_1),\\dots,(x_n,y_n)$ si presenta nella seguente forma:\n",
        "\n",
        "|                   |          |         | Variabile $y$ |         |          |            |\n",
        "|-----------|-----------|-----------|-----------|-----------|-----------|-----------|\n",
        "| **Variabile** $x$ | $d_1$    | $\\dots$ | $d_j$         | $\\dots$ | $d_k$    | **Totale** |\n",
        "| $c_1$             | $n_{11}$ | $\\dots$ | $n_{1j}$      | $\\dots$ | $n_{1k}$ | $n_{1+}$   |\n",
        "| $\\vdots$          | $\\vdots$ |         | $\\vdots$      |         | $\\vdots$ | $\\vdots$   |\n",
        "| $c_i$             | $n_{i1}$ | $\\dots$ | $n_{ij}$      | $\\dots$ | $n_{ik}$ | $n_{i+}$   |\n",
        "| $\\vdots$          | $\\vdots$ |         | $\\vdots$      |         | $\\vdots$ | $\\vdots$   |\n",
        "| $c_h$             | $n_{h1}$ | $\\dots$ | $n_{hj}$      | $\\dots$ | $n_{hk}$ | $n_{h+}$   |\n",
        "| **Totale**        | $n_{+1}$ | $\\dots$ | $n_{+j}$      | $\\dots$ | $n_{+k}$ | $n$        |\n",
        "\n",
        "La frequenza $n_{ij}$ è il numero di unità statistica che presentano contemporaneamente le modalità $c_i$ e $d_j$.\n",
        "\n",
        "## Tabella di contingenza, frequenze relative\n",
        "\n",
        "Dividendo per $n$ ciascun termine della precedente tabella, si ottiene inoltre:\n",
        "\n",
        "|                   |          |         | Variabile $y$ |         |          |            |\n",
        "|-----------|-----------|-----------|-----------|-----------|-----------|-----------|\n",
        "| **Variabile** $x$ | $d_1$    | $\\dots$ | $d_j$         | $\\dots$ | $d_k$    | **Totale** |\n",
        "| $c_1$             | $f_{11}$ | $\\dots$ | $f_{1j}$      | $\\dots$ | $f_{1k}$ | $f_{1+}$   |\n",
        "| $\\vdots$          | $\\vdots$ |         | $\\vdots$      |         | $\\vdots$ | $\\vdots$   |\n",
        "| $c_i$             | $f_{i1}$ | $\\dots$ | $f_{ij}$      | $\\dots$ | $f_{ik}$ | $f_{i+}$   |\n",
        "| $\\vdots$          | $\\vdots$ |         | $\\vdots$      |         | $\\vdots$ | $\\vdots$   |\n",
        "| $c_h$             | $f_{h1}$ | $\\dots$ | $f_{hj}$      | $\\dots$ | $f_{hk}$ | $f_{h+}$   |\n",
        "| **Totale**        | $f_{+1}$ | $\\dots$ | $f_{+j}$      | $\\dots$ | $f_{+k}$ | $1$        |\n",
        "\n",
        "La frequenza relativa $f_{ij} = n_{ij} / n$ è quindi la frazione di osservazioni che presentano contemporaneamente le modalità $c_i$ e $d_j$.\n",
        "\n",
        "## Frequenze congiunte & marginali\n",
        "\n",
        "Le tabelle descritte nei paragrafi precedenti si ottengono in **R** come segue:"
      ]
    },
    {
      "cell_type": "code",
      "metadata": {},
      "source": [
        "addmargins(tab) # Aggiunge le distribuzioni marginali (assolute)"
      ],
      "execution_count": null,
      "outputs": []
    },
    {
      "cell_type": "code",
      "metadata": {},
      "source": [
        "tab_rel <- prop.table(tab) # Comando alternativo: table(tab) / sum(tab)\n",
        "tab_rel"
      ],
      "execution_count": null,
      "outputs": []
    },
    {
      "cell_type": "code",
      "metadata": {},
      "source": [
        "addmargins(tab_rel) # Aggiunge le distribuzioni marginali relative"
      ],
      "execution_count": null,
      "outputs": []
    },
    {
      "cell_type": "markdown",
      "metadata": {},
      "source": [
        "## Distribuzioni condizionate I\n",
        "\n",
        "#### Distribuzione condizionata $(x \\mid y = d_j)$\n",
        "\n",
        "La $j$-esima colonna mostra la distribuzione di $x$ **condizionata** ad $y = d_j$ oppure, equivalentemente, la distribuzione di $x$ dato $y = d_j$.\n",
        "\n",
        "| Distribuzione $x \\mid y = d_j$ | $c_1$             | $\\dots$ | $c_i$             | $\\dots$ | $c_h$             | Totale   |\n",
        "|-----------|-----------|-----------|-----------|-----------|-----------|-----------|\n",
        "| Frequenze assolute             | $n_{1j}$          | $\\dots$ | $n_{ij}$          | $\\dots$ | $n_{hj}$          | $n_{+j}$ |\n",
        "| Frequenze relative             | $n_{1j} / n_{+j}$ | $\\dots$ | $n_{ij} / n_{+j}$ | $\\dots$ | $n_{hj} / n_{+j}$ | $1$      |\n",
        "\n",
        "#### Distribuzione condizionata $(y \\mid x = c_i)$\n",
        "\n",
        "La $i$-esima riga mostra la distribuzione di $y$ **condizionata** ad $x = c_i$ oppure, equivalentemente, la distribuzione di $y$ dato $x = c_i$.\n",
        "\n",
        "| Distribuzione $y \\mid x = c_i$ | $d_1$             | $\\dots$ | $d_j$             | $\\dots$ | $d_k$             | Totale   |\n",
        "|-----------|-----------|-----------|-----------|-----------|-----------|-----------|\n",
        "| Frequenze assolute             | $n_{i1}$          | $\\dots$ | $n_{ij}$          | $\\dots$ | $n_{ik}$          | $n_{i+}$ |\n",
        "| Frequenze relative             | $n_{i1} / n_{i+}$ | $\\dots$ | $n_{ij} / n_{i+}$ | $\\dots$ | $n_{ik} / n_{i+}$ | $1$      |\n",
        "\n",
        "## Distribuzioni condizionate II\n",
        "\n",
        "Il comando `prop.table` consente anche di calcolare le frequenze condizionate relative.\n",
        "\n",
        "La distribuzione di ciascuna classe, condizionata all'esito è:"
      ]
    },
    {
      "cell_type": "code",
      "metadata": {},
      "source": [
        "prop.table(tab, 1)"
      ],
      "execution_count": null,
      "outputs": []
    },
    {
      "cell_type": "markdown",
      "metadata": {},
      "source": [
        "La distribuzione di ciascun esito, condizionata alla classe è:"
      ]
    },
    {
      "cell_type": "code",
      "metadata": {},
      "source": [
        "prop.table(tab, 2)"
      ],
      "execution_count": null,
      "outputs": []
    },
    {
      "cell_type": "markdown",
      "metadata": {},
      "source": [
        "## Contingenze ed indice $\\chi^2$ di Pearson\n",
        "\n",
        "Le **contingenze** sono pari alla differenza tra frequenze osservate e frequenze attese, sotto l'ipotesi di indipendenza: $$\n",
        "(\\text{contingenza}_{ij}) = n_{ij} - \\hat{n}_{ij}, \\qquad i=1,\\dots,h,\\quad j=1,\\dots,k.\n",
        "$$\n",
        "\n",
        "Si consulti l'**unità O** di Statistica I per la definizione di **frequenze attese**.\n",
        "\n",
        "L'indice di connessione $\\chi^2$ è definito come $$\n",
        "\\chi^2 = \\sum_{i=1}^h\\sum_{j=1}^k \\frac{(n_{ij} - \\hat{n}_{ij})^2}{\\hat{n}_{ij}} = n\\left(\\sum_{i=1}^h\\sum_{j=1}^k\\frac{f_{ij}^2}{f_{i+}f_{+j}} - 1\\right).\n",
        "$$\n",
        "\n",
        "\n",
        "## Esercizio riassuntivo\n",
        "\n",
        "Si scriva una funzione **R** chiamata `chi_squared(x, y)` che calcola l'indice $\\chi^2$ di Pearson.\n",
        "\n",
        "\n",
        "#### Soluzione"
      ]
    },
    {
      "cell_type": "code",
      "metadata": {},
      "source": [
        "chi_squared <- function(x, y) {\n",
        "  nn <- table(x, y)\n",
        "  n <- sum(nn)\n",
        "  ff <- nn / n # Frequenze relative congiunte\n",
        "  f_x <- table(x) / n # Frequenze relative marginali di x\n",
        "  f_y <- table(y) / n # Frequenze relative marginali di y\n",
        "  S <- 0\n",
        "  for (i in 1:length(f_x)) {\n",
        "    for (j in 1:length(f_y)) {\n",
        "      S <- S + ff[i, j]^2 / (f_x[i] * f_y[j])\n",
        "    }\n",
        "  }\n",
        "  n * (S - 1)\n",
        "}\n",
        "chi_squared(titanic$Salvato, titanic$Classe)"
      ],
      "execution_count": null,
      "outputs": []
    },
    {
      "cell_type": "markdown",
      "metadata": {},
      "source": [
        "#### Soluzione (alternativa, più concisa)\n",
        "\n",
        "La soluzione seguente fa uso delle funzioni `apply` e `outer`."
      ]
    },
    {
      "cell_type": "code",
      "metadata": {},
      "source": [
        "chi_squared <- function(x, y) {\n",
        "  nn <- table(x, y)\n",
        "  n <- sum(nn)\n",
        "  ff <- nn / n\n",
        "  f_x <- apply(ff, 1, sum)\n",
        "  f_y <- apply(ff, 2, sum)\n",
        "  f_e <- outer(f_x, f_y) # Prodotto \"esterno\" tra vettori\n",
        "  n * (sum(ff^2 / f_e) - 1)\n",
        "}\n",
        "chi_squared(titanic$Salvato, titanic$Classe)"
      ],
      "execution_count": null,
      "outputs": []
    },
    {
      "cell_type": "markdown",
      "metadata": {},
      "source": [
        "Infine, si noti che la funzione `chisq.test` produce lo stesso risultato."
      ]
    },
    {
      "cell_type": "code",
      "metadata": {},
      "source": [
        "chisq.test(table(titanic$Salvato, titanic$Classe))"
      ],
      "execution_count": null,
      "outputs": []
    }
  ],
  "metadata": {
    "kernelspec": {
      "name": "ir",
      "language": "R",
      "display_name": "R"
    }
  },
  "nbformat": 4,
  "nbformat_minor": 4
}