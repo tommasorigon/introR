{
  "cells": [
    {
      "cell_type": "raw",
      "metadata": {},
      "source": [
        "---\n",
        "title: \"R per l'analisi statistica multivariata\"\n",
        "subtitle: \"Unità F: analisi descrittiva dei dati `forbes`\"\n",
        "author: \"Tommaso Rigon\"\n",
        "institute: \"Università Milano-Bicocca\"\n",
        "editor: visual\n",
        "execute:\n",
        "  echo: true\n",
        "  warning: true\n",
        "editor_options: \n",
        "  chunk_output_type: console\n",
        "---"
      ]
    },
    {
      "cell_type": "markdown",
      "metadata": {},
      "source": [
        "## Argomenti affrontati\n",
        "\n",
        "-   Svolgimento di un tema d'esame di Statistica I\n",
        "-   Modello di regressione lineare semplice\n",
        "\n",
        "::: callout-note\n",
        "#### Nota\n",
        "\n",
        "Gli esercizi **R** associati sono disponibili a [questo link](https://tommasorigon.github.io/introR/exe/es_2.html)\n",
        ":::\n",
        "\n",
        "## Descrizione del problema\n",
        "\n",
        "Per $n = 17$ luoghi nelle Alpi viene misurata la **pressione atmosferica** (inHg, ovvero \"*inches of mercury*\") e la **temperatura di ebollizione** dell'acqua (in gradi Fahrenheit).\n",
        "\n",
        "I dati provengono da un esperimento condotto dal **fisico scozzese Forbes** nel 1857.\n",
        "\n",
        "Forbes era interessato a stimare l'altitudine tramite la pressione. Tuttavia, il barometro all'epoca era uno strumento pesante e costoso.\n",
        "\n",
        "In montagna infatti l'acqua bolle ad una temperatura diversa, per cui è possibile cercare di stimare la pressione a partire dalla temperatura di ebollizione.\n",
        "\n",
        "::: callout-note\n",
        "#### Nota\n",
        "\n",
        "I dati seguenti sono gli stessi dell'esame di Statistica I del 11 Novembre 2020, che trovate sul sito web.\n",
        ":::\n",
        "\n",
        "\n",
        "## Importazione dei dati `forbes`\n",
        "\n",
        "Come fatto in precedenza, anzitutto è necessario scaricare il file `forbes.csv` e salvarlo nel proprio computer. [Link al file](../dataset/forbes.csv)"
      ]
    },
    {
      "cell_type": "code",
      "metadata": {},
      "source": [
        "forbes <- read.table(\"../dataset/forbes.csv\", header = TRUE, sep = \",\")"
      ],
      "execution_count": null,
      "outputs": []
    },
    {
      "cell_type": "markdown",
      "metadata": {},
      "source": [
        "In alternativa, possiamo semplice ottenerli usando il link:"
      ]
    },
    {
      "cell_type": "code",
      "metadata": {},
      "source": [
        "#| eval: false\n",
        "path <- \"https://tommasorigon.github.io/introR/data/forbes.csv\"\n",
        "forbes <- read.table(path, header = TRUE, sep = \",\")"
      ],
      "execution_count": null,
      "outputs": []
    },
    {
      "cell_type": "code",
      "metadata": {},
      "source": [
        "str(forbes)"
      ],
      "execution_count": null,
      "outputs": []
    },
    {
      "cell_type": "markdown",
      "metadata": {},
      "source": [
        "## Operazioni preliminari\n",
        "\n",
        "Per motivi **interpretativi**, convertiamo la temperatura da gradi Farenheit a gradi Celsius, ricordando che\n",
        "\n",
        "$$\n",
        "(\\text{``Fahrenheit''}) = 32 + \\frac{9}{5}(\\text{``Celsius''}).\n",
        "$$"
      ]
    },
    {
      "cell_type": "code",
      "metadata": {},
      "source": [
        "colnames(forbes) <- c(\"TempF\", \"Pressione\") # Cambio i nomi alle variabili\n",
        "\n",
        "forbes$TempC <- round((forbes$TempF - 32) * 5 / 9, 2) # Da Fahrenheit a Celsius\n",
        "summary(forbes)"
      ],
      "execution_count": null,
      "outputs": []
    },
    {
      "cell_type": "markdown",
      "metadata": {},
      "source": [
        "Come mai approssimiamo i valori utilizzando `round`? Per motivi **estetici**: in questo modo si ottengono risultati identici alla prova d'esame di Statistica I.\n",
        "\n",
        "## Istogramma\n",
        "\n",
        "::: callout-warning\n",
        "#### Domanda 1\n",
        "\n",
        "Si disegni un istogramma della variabile temperatura, scegliendo un numero appropriato di classi equispaziate e giustificandone la scelta.\n",
        "\n",
        "Si aggiungano a questi grafici gli \"abbellimenti\" grafici ritenuti necessari (nomi delle variabili, titolo, etc).\n",
        ":::\n",
        "\n",
        "#### Soluzione\n",
        "\n",
        "Possiamo decidere di specificare in autonomia gli intervalli delle classi oppure di lasciare ad **R** questa scelta."
      ]
    },
    {
      "cell_type": "code",
      "metadata": {},
      "source": [
        "par(mfrow = c(1, 2)) # Divido la finestra grafica in 2 parti\n",
        "\n",
        "# Opzione 1, per un totale di 6 classi equispaziate\n",
        "hist(forbes$TempC) # Equivalente a: hist(forbes$TempC, breaks = \"sturges\") \n",
        "\n",
        "# Opzione 2, definisco manualmente 5 classi equispaziate\n",
        "breaks <- c(90, 92.5, 95, 97.5, 100, 102.5)\n",
        "hist(forbes$TempC, breaks = breaks)"
      ],
      "execution_count": null,
      "outputs": []
    },
    {
      "cell_type": "markdown",
      "metadata": {},
      "source": [
        "La soluzione di sinistra fa uso di $6$ classi. Viceversa, quella di sinistra fa uso di $5$ classi, come nella **soluzione** dell'esame.\n",
        "\n",
        "## Indici di posizione\n",
        "\n",
        "::: callout-warning\n",
        "#### Domanda 2\n",
        "\n",
        "Si ottengano la media aritmetica di entrambe le variabili `tempC` e `pressione`. Quanto vale la temperatura di ebollizione media espressa in gradi Fahrenheit? Si risponda senza calcolare tutti i valori della variabile `tempF`.\n",
        ":::\n",
        "\n",
        "### Soluzione\n",
        "\n",
        "Abbiamo già calcolato la medie tramite il comando `summary`, per completezza:"
      ]
    },
    {
      "cell_type": "code",
      "metadata": {},
      "source": [
        "# Prima parte della domanda\n",
        "mean(forbes$TempC)\n",
        "mean(forbes$Pressione)"
      ],
      "execution_count": null,
      "outputs": []
    },
    {
      "cell_type": "code",
      "metadata": {},
      "source": [
        "# Seconda parte della domanda \n",
        "32 + 9 / 5 * mean(forbes$TempC) # Utilizzo proprietà della media\n",
        "mean(forbes$TempF) # Non richiesto, calcola la media a partire dai dai dati trasformati"
      ],
      "execution_count": null,
      "outputs": []
    },
    {
      "cell_type": "markdown",
      "metadata": {},
      "source": [
        "::: callout-note\n",
        "#### Esercizio\n",
        "\n",
        "Come mai le medie calcolate nella seconda parte differiscono leggermente? A cosa può essere dovuto?\n",
        ":::\n",
        "\n",
        "## Indici di variabilità\n",
        "\n",
        "::: callout-warning\n",
        "#### Domanda 3\n",
        "\n",
        "Si ottenga la varianza delle variabili `tempC` e `pressione`.\n",
        ":::\n",
        "\n",
        "#### Soluzione\n",
        "\n",
        "Dato che tornerà utile in seguito, definiamo la funzione `my_var` che calcola la **varianza**."
      ]
    },
    {
      "cell_type": "code",
      "metadata": {},
      "source": [
        "# Si, la funzione è definita in un'unica riga e non c'è nulla di male in questo\n",
        "my_var <- function(x) mean(x^2) - mean(x)^2 \n",
        "\n",
        "# Calcolo delle due varianze\n",
        "my_var(forbes$TempC)\n",
        "my_var(forbes$Pressione)"
      ],
      "execution_count": null,
      "outputs": []
    },
    {
      "cell_type": "markdown",
      "metadata": {},
      "source": [
        "::: callout-note\n",
        "#### Esercizio\n",
        "\n",
        "Si ottengano i momenti secondi delle variabili `tempC` e `pressione`.\n",
        ":::\n",
        "\n",
        "## Covarianza e correlazione\n",
        "\n",
        "::: callout-warning\n",
        "## Domanda 4\n",
        "\n",
        "Si disegni un opportuno grafico che aiuti a comprendere la relazione tra le due variabili. Si calcoli quindi la correlazione.\n",
        ":::\n",
        "\n",
        "#### Soluzione\n",
        "\n",
        "Per la prima parte della domanda, abbiamo bisogno del nuovo comando `plot`, che può essere usato (tra le altre cose!) per costruire un **diagramma a dispersione**.\n",
        "\n",
        "Forniamo due versioni dello stesso grafico; la seconda contiene dei miglioramenti estetici."
      ]
    },
    {
      "cell_type": "code",
      "metadata": {},
      "source": [
        "par(mfrow = c(1, 1)) # Vogliamo mostrare un grafico alla volta\n",
        "plot(forbes$TempC, forbes$Pressione)\n",
        "plot(forbes$TempC, forbes$Pressione, pch = 16, xlab = \"Temperatura\", ylab = \"Pressione\")"
      ],
      "execution_count": null,
      "outputs": []
    },
    {
      "cell_type": "markdown",
      "metadata": {},
      "source": [
        "È quindi evidente che i dati siano circa (anche se non perfettamente) allineati\n",
        "\n",
        "Per la seconda parte di domanda (correlazione), dobbiamo anzitutto ottenere la **covarianza** tra due variabili.\n",
        "\n",
        "La **covarianza** tra due insiemi di dati $x_1,\\dots,x_n$ e $y_1,\\dots,y_n$ è definita come\n",
        "\n",
        "$$\n",
        "\\text{cov}(x,y) = \\frac{1}{n}\\sum_{i=1}^n(x_i - \\bar{x})(y_i - \\bar{y}) = \\frac{1}{n}\\sum_{i=1}^nx_i y_i - \\bar{x}\\bar{y}.\n",
        "$$\n",
        "\n",
        "Definiamo quindi la funzione `my_cov`, che calcola appunto la covarianza:"
      ]
    },
    {
      "cell_type": "code",
      "metadata": {},
      "source": [
        "my_cov <- function(x, y) mean(x * y) - mean(x) * mean(y)\n",
        "my_cov(forbes$TempC, forbes$Pressione) # = my_cov(forbes$Pressione, forbes$TempC)"
      ],
      "execution_count": null,
      "outputs": []
    },
    {
      "cell_type": "markdown",
      "metadata": {},
      "source": [
        "In **R** esiste anche il comando `cov` che, come nel caso della varianza, divide la sommatoria per $(n - 1)$ e non $n$ per motivi legati all'**inferenza statistica**:"
      ]
    },
    {
      "cell_type": "code",
      "metadata": {},
      "source": [
        "cov(forbes$Pressione, forbes$TempC) # = 17 / 16 * my_cov(forbes$TempC, forbes$Pressione)"
      ],
      "execution_count": null,
      "outputs": []
    },
    {
      "cell_type": "markdown",
      "metadata": {},
      "source": [
        "L'indice di \\empb{correlazione} è definito come: $$\n",
        "\\rho = \\frac{\\text{cov}(x,y)}{\\sqrt{\\text{var}(x) \\text{var}(y)}}.\n",
        "$$\n",
        "\n",
        "Pertanto, possiamo calcolare la correlazione nei modo seguente:"
      ]
    },
    {
      "cell_type": "code",
      "metadata": {},
      "source": [
        "my_cov(forbes$TempC, forbes$Pressione) / sqrt(my_var(forbes$TempC) * my_var(forbes$Pressione))\n",
        "\n",
        "cov(forbes$TempC, forbes$Pressione) / sqrt(var(forbes$TempC) * var(forbes$Pressione))"
      ],
      "execution_count": null,
      "outputs": []
    },
    {
      "cell_type": "markdown",
      "metadata": {},
      "source": [
        "::: callout-note\n",
        "#### Esercizio\n",
        "\n",
        "Come mai i risultati dei due comandi coincidono? Si verifichi questo fatto svolgendo **analiticamente** (carta e penna) i conti.\n",
        ":::\n",
        "\n",
        "In **R** esiste anche il comando `cor`, che permette di ottenere la correlazione"
      ]
    },
    {
      "cell_type": "code",
      "metadata": {},
      "source": [
        "correlation <- cor(forbes$TempC, forbes$Pressione)\n",
        "correlation"
      ],
      "execution_count": null,
      "outputs": []
    },
    {
      "cell_type": "markdown",
      "metadata": {},
      "source": [
        "## Modello di regressione lineare\n",
        "\n",
        "::: callout-warning\n",
        "## Domanda 5\n",
        "\n",
        "Si ottenga la retta ai minimi quadrati per la relazione tra `tempC` e `pressione` e la si disegni nel grafico ottenuto in precedenza.\n",
        ":::\n",
        "\n",
        "#### Soluzione\n",
        "\n",
        "Anzitutto ricordiamo che in un **modello lineare** del tipo $y_i = \\alpha + \\beta x_i + \\epsilon_i$, le stime ai **minimi quadrati** sono pari a $$\n",
        "\\hat{\\alpha} = \\bar{y} - \\hat{\\beta}\\:\\bar{x}, \\qquad \\hat{\\beta}  = \\frac{\\text{cov}(x,y)}{\\text{var}(x)}.\n",
        "$$\n",
        "\n",
        "Pertanto, possiamo calcolare la correlazione nei modo seguente:"
      ]
    },
    {
      "cell_type": "code",
      "metadata": {},
      "source": [
        "# Coefficiente angolare\n",
        "beta_hat <- my_cov(forbes$TempC, forbes$Pressione) / my_var(forbes$TempC)\n",
        "# Intercetta\n",
        "alpha_hat <- mean(forbes$Pressione) - mean(forbes$TempC) * beta_hat\n",
        "\n",
        "c(alpha_hat, beta_hat)"
      ],
      "execution_count": null,
      "outputs": []
    },
    {
      "cell_type": "code",
      "metadata": {},
      "source": [
        "plot(forbes$TempC, forbes$Pressione, pch = 16, xlab = \"Temperatura\", ylab = \"Pressione\")\n",
        "abline(a = alpha_hat, b = beta_hat)"
      ],
      "execution_count": null,
      "outputs": []
    },
    {
      "cell_type": "markdown",
      "metadata": {},
      "source": [
        "::: callout-warning\n",
        "## Domanda 6\n",
        "\n",
        "In base al modello stimato, se la temperatura di ebollizione dell'acqua è pari 97 gradi Celsius, a quanto è pari la pressione?\n",
        ":::\n",
        "\n",
        "#### Soluzione\n",
        "\n",
        "Utilizzando le stime ottenute, possiamo calcolare rapidamente i valori previsti:"
      ]
    },
    {
      "cell_type": "code",
      "metadata": {},
      "source": [
        "x <- seq(from = 90, to = 100, length = 20)\n",
        "alpha_hat + beta_hat * x"
      ],
      "execution_count": null,
      "outputs": []
    },
    {
      "cell_type": "markdown",
      "metadata": {},
      "source": [
        "In particolare, quando `tempC = 97` si ha che:"
      ]
    },
    {
      "cell_type": "code",
      "metadata": {},
      "source": [
        "alpha_hat + beta_hat * 97"
      ],
      "execution_count": null,
      "outputs": []
    },
    {
      "cell_type": "markdown",
      "metadata": {},
      "source": [
        "::: callout-warning\n",
        "## Domanda 7\n",
        "\n",
        "Si ottenga un indice di bontà di adattamento ai dati della curva ottenuta.\n",
        ":::\n",
        "\n",
        "#### Soluzione\n",
        "\n",
        "Il coefficiente $R^2$ per un modello di regressione lineare semplice è definito come: $$\n",
        "R^2 = 1 - \\frac{\\text{var}(r)}{\\text{var}(y)} = \\rho^2,\n",
        "$$ dove $r_1,\\dots,r_n$ sono i **residui**.\n",
        "\n",
        "Anzitutto quindi calcoliamo i residui:"
      ]
    },
    {
      "cell_type": "code",
      "metadata": {},
      "source": [
        "residuals <- forbes$Pressione - (alpha_hat + beta_hat * forbes$TempC)"
      ],
      "execution_count": null,
      "outputs": []
    },
    {
      "cell_type": "markdown",
      "metadata": {},
      "source": [
        "Il coefficiente $R^2$ può quindi essere ottenuto in due modi diversi:"
      ]
    },
    {
      "cell_type": "code",
      "metadata": {},
      "source": [
        "correlation^2\n",
        "1 - my_var(residuals) / my_var(forbes$Pressione)"
      ],
      "execution_count": null,
      "outputs": []
    },
    {
      "cell_type": "markdown",
      "metadata": {},
      "source": [
        "## Esercizio riassuntivo\n",
        "\n",
        "Si consideri l'esame di Statistica I del 28 Gennaio 2021, disponibile a [questo link](https://tommasorigon.github.io/StatI/esami/28_01_2021.html)\n",
        "\n",
        "Si risolva l'esercizio 2 dell'esame usando il software **R**.\n",
        "\n",
        "::: callout-tip\n",
        "#### Suggerimento\n",
        "\n",
        "Per poter importare piccole quantità di dati in **R**, è possibile usare il comando `scan`.\n",
        ":::"
      ]
    }
  ],
  "metadata": {
    "kernelspec": {
      "name": "ir",
      "language": "R",
      "display_name": "R"
    }
  },
  "nbformat": 4,
  "nbformat_minor": 4
}