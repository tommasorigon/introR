{
  "cells": [
    {
      "cell_type": "raw",
      "metadata": {},
      "source": [
        "---\n",
        "title: \"R per l'analisi statistica multivariata\"\n",
        "subtitle: \"Unità E: analisi descrittiva dei dati `emoglobina`\"\n",
        "author: \"Tommaso Rigon\"\n",
        "institute: \"Università Milano-Bicocca\"\n",
        "editor: visual\n",
        "execute:\n",
        "  echo: true\n",
        "  warning: true\n",
        "editor_options: \n",
        "  chunk_output_type: console\n",
        "---"
      ]
    },
    {
      "cell_type": "markdown",
      "metadata": {},
      "source": [
        "## Argomenti affrontati\n",
        "\n",
        "-   Varianza e scarto quadratico medio\n",
        "-   Altre misure di variabilità (campo di variazione, scarto interquartile, MAD)\n",
        "\n",
        "::: callout-note\n",
        "#### Nota\n",
        "\n",
        "Gli esercizi **R** associati sono disponibili a [questo link](https://tommasorigon.github.io/introR/exe/es_2.html)\n",
        ":::\n",
        "\n",
        "## Descrizione del problema\n",
        "\n",
        "Siamo interessati a confrontare l'efficacia di due diverse metodologie, chiamate A e B, per la **misurazione dell'emoglobina** nel sangue.\n",
        "\n",
        "Si è creato in laboratorio del **sangue artificiale** contenente 15 grammi di emoglobina ogni $100 \\text{cm}^3$.\n",
        "\n",
        "Dal composito sono stati estratti in totale $n = 360$ campioni.\n",
        "\n",
        "Di questi, in $n_A = 180$ campioni l'emoglobina è stata misurata utilizzando la metodologia A mentre per i restanti $n_B = 180$ campioni è stata usata la metodologia B.\n",
        "\n",
        "Alcuni dati sono riportati nella prossima slide. Le differenze tra le diverse misurazioni sono da attribuire in larga parte agli errori di misura delle due diverse metodologie. \n",
        "\n",
        "## Importazione dei dati `emoglobina`\n",
        "\n",
        "Come fatto in precedenza, anzitutto è necessario scaricare il file `emoglobina.csv` e salvarlo nel proprio computer. [Link al file](../dataset/emoglobina.csv)"
      ]
    },
    {
      "cell_type": "code",
      "metadata": {},
      "source": [
        "emoglobina <- read.table(\"../dataset/emoglobina.csv\", header = TRUE, sep = \",\", stringsAsFactors = TRUE)"
      ],
      "execution_count": null,
      "outputs": []
    },
    {
      "cell_type": "markdown",
      "metadata": {},
      "source": [
        "In alternativa, possiamo semplice ottenerli usando il link:"
      ]
    },
    {
      "cell_type": "code",
      "metadata": {},
      "source": [
        "#| eval: false\n",
        "path <- \"https://tommasorigon.github.io/introR/data/emoglobina.csv\"\n",
        "emoglobina <- read.table(path, header = TRUE, sep = \",\", stringsAsFactors = TRUE)"
      ],
      "execution_count": null,
      "outputs": []
    },
    {
      "cell_type": "code",
      "metadata": {},
      "source": [
        "str(emoglobina)"
      ],
      "execution_count": null,
      "outputs": []
    },
    {
      "cell_type": "markdown",
      "metadata": {},
      "source": [
        "L'opzione `stringsAsFactors = TRUE`, implica che la variabile `Metodologia` viene codificata come `factor` e non come `character`.\n",
        "\n",
        "## Operazioni preliminari\n",
        "\n",
        "In questo formato i dati sono **difficili da analizzare**, quantomeno senza usare le funzioni avanzate `*apply` così come gli strumenti del cosiddetto `tidyverse`.\n",
        "\n",
        "Pertanto, creiamo le due variabili `emo_A` ed `emo_B`, contenenti i valori di emoglobina per le due metodologie."
      ]
    },
    {
      "cell_type": "code",
      "metadata": {},
      "source": [
        "emo_A <- emoglobina$emoglobina[emoglobina$Metodologia == \"A\"] # Emoglobina gruppo A\n",
        "emo_B <- emoglobina$emoglobina[emoglobina$Metodologia == \"B\"] # Emoglobina gruppo B\n",
        "\n",
        "summary(emo_A)\n",
        "summary(emo_B)"
      ],
      "execution_count": null,
      "outputs": []
    },
    {
      "cell_type": "code",
      "metadata": {},
      "source": [
        "boxplot(emoglobina$emoglobina ~ emoglobina$Metodologia,\n",
        "  ylab = \"Emoglobina\",\n",
        "  xlab = \"Metodologia\"\n",
        ")"
      ],
      "execution_count": null,
      "outputs": []
    },
    {
      "cell_type": "markdown",
      "metadata": {},
      "source": [
        "Da queste prime analisi descrittive si evince che entrambe le metodologie sono, quantomeno in media, **ben calibrate**. Quale delle due è preferibile?\n",
        "\n",
        "## La varianza I\n",
        "\n",
        "Ricordiamo che la **varianza** dei dati $x_1,\\dots,x_n$ è pari a\n",
        "\n",
        "$$\n",
        "\\sigma^2  = \\frac{1}{n}\\sum_{i=1}^n (x_i - \\bar{x})^2 = \\left(\\frac{1}{n}\\sum_{i=1}^n x_i^2\\right) - \\bar{x}^2.\n",
        "$$\n",
        "\n",
        "Possiamo quindi calcolare le varianze dei due gruppi \"manualmente\":"
      ]
    },
    {
      "cell_type": "code",
      "metadata": {},
      "source": [
        "mean((emo_A - mean(emo_A))^2) # Varianza del gruppo A\n",
        "mean((emo_B - mean(emo_B))^2) # Varianza del gruppo B\n",
        "\n",
        "mean(emo_A^2) - mean(emo_A)^2 # Varianza del gruppo A, formula alternativa\n",
        "mean(emo_B^2) - mean(emo_B)^2 # Varianza del gruppo B, formula alternativa"
      ],
      "execution_count": null,
      "outputs": []
    },
    {
      "cell_type": "markdown",
      "metadata": {},
      "source": [
        "La metodologia B è quindi caratterizzata da una **variabilità** maggiore.\n",
        "\n",
        "## La varianza II\n",
        "\n",
        "Per praticità, creiamo una **nuova funzione** chiamata `my_var` che calcola la **varianza** di un generico vettore `x`. Pertanto avremo:"
      ]
    },
    {
      "cell_type": "code",
      "metadata": {},
      "source": [
        "my_var <- function(x) {\n",
        "  mean(x^2) - mean(x)^2\n",
        "}\n",
        "\n",
        "my_var(emo_A)\n",
        "my_var(emo_B)"
      ],
      "execution_count": null,
      "outputs": []
    },
    {
      "cell_type": "markdown",
      "metadata": {},
      "source": [
        "In **R** è presente la funzione `var`, tuttavia questa calcola una **quantità** leggermente **diversa**, ovvero $$\n",
        "\\texttt{var(x)} = \\frac{1}{n-1}\\sum_{i=1}^n (x_i - \\bar{x})^2,\n",
        "$$ ovvero lo **stimatore corretto** della varianza quando i dati provengono da una legge gaussiana.\n",
        "\n",
        "**Il motivo non è chiaro?** Verrà presto affrontato a Statistica 2!\n",
        "\n",
        "## La varianza III\n",
        "\n",
        "La differenza `my_var` e `var` è, in pratica, sostanzialmente **trascurabile** in questo caso, infatti:"
      ]
    },
    {
      "cell_type": "code",
      "metadata": {},
      "source": [
        "var(emo_A)\n",
        "var(emo_B)"
      ],
      "execution_count": null,
      "outputs": []
    },
    {
      "cell_type": "markdown",
      "metadata": {},
      "source": [
        "::: callout-note\n",
        "#### Esercizio\n",
        "\n",
        "Si ottenga lo stesso output di `my_var` utilizzando la funzione `var`.\n",
        ":::\n",
        "\n",
        "## Scarto quadratico medio\n",
        "\n",
        "Lo **scarto quadratico medio** è la radice quadrata della varianza, ovvero $$\n",
        "\\text{sqm}(x) = \\sigma = \\sqrt{\\sigma^2}.\n",
        "$$\n",
        "\n",
        "Creiamo quindi un'opportuna funzione **R** chiamata `my_sd` per il suo calcolo.\n",
        "\n",
        "Anche in questo caso, si faccia attenzione che il comando `sd` di **R** invece calcola il valore di $$\n",
        "\\texttt{sd(x)} = \\sqrt{\\frac{1}{n-1}\\sum_{i=1}^n (x_i - \\bar{x})^2}.\n",
        "$$"
      ]
    },
    {
      "cell_type": "code",
      "metadata": {},
      "source": [
        "my_sd <- function(x) {\n",
        "  sqrt(my_var(x))\n",
        "}\n",
        "\n",
        "my_sd(emo_A)\n",
        "my_sd(emo_B)\n",
        "\n",
        "sd(emo_A)\n",
        "sd(emo_B)"
      ],
      "execution_count": null,
      "outputs": []
    },
    {
      "cell_type": "markdown",
      "metadata": {},
      "source": [
        "## Campo di variazione\n",
        "\n",
        "Il **campo di variazione** è la differenza tra minimo e massimo della distribuzione, ovvero $$\n",
        "(\\text{``Campo di variazione''}) = x_{(n)} - x_{(1)},\n",
        "$$ dove $x_{(1)}$ e $x_{(n)}$ rappresentano rispettivamente il minimo ed il massimo dei dati.\n",
        "\n",
        "Sebbene non esista una funzione specifica per il suo calcolo, possiamo usare i seguenti comandi"
      ]
    },
    {
      "cell_type": "code",
      "metadata": {},
      "source": [
        "max(emo_A) - min(emo_A)\n",
        "max(emo_B) - min(emo_B)\n",
        "\n",
        "diff(range(emo_A))\n",
        "diff(range(emo_B))"
      ],
      "execution_count": null,
      "outputs": []
    },
    {
      "cell_type": "markdown",
      "metadata": {},
      "source": [
        "::: callout-note\n",
        "#### Esercizio\n",
        "\n",
        "Si definisca un'opportuna funzione **R** che calcola il **campo di variazione**.\n",
        ":::\n",
        "\n",
        "## Scarto interquartile\n",
        "\n",
        "Lo **scarto interquartile** è la differenza tra il terzo ed il primo quartile, ovvero $$\n",
        "(\\text{``Scarto interquartile''}) = \\mathcal{Q}_{0.75} - \\mathcal{Q}_{0.25}.\n",
        "$$\n",
        "\n",
        "È molto più **resistente** della varianza in presenza di poche osservazioni estreme.\n",
        "\n",
        "La sua implementazione in **R** è la seguente:"
      ]
    },
    {
      "cell_type": "code",
      "metadata": {},
      "source": [
        "interquartile_range <- function(x) {\n",
        "  diff(quantile(x, probs = c(0.25, 0.75)))\n",
        "}\n",
        "\n",
        "interquartile_range(emo_A)\n",
        "interquartile_range(emo_B)"
      ],
      "execution_count": null,
      "outputs": []
    },
    {
      "cell_type": "markdown",
      "metadata": {},
      "source": [
        "## Mean absolute deviation (MAD)s\n",
        "\n",
        "L'indice di variabilità **MAD** (*Median Absolute Deviation*) è definito come segue $$\n",
        "\\text{MAD} = \\text{Mediana}(|x_1 - \\text{Me}_x|, \\dots, |x_n - \\text{Me}_x|), \\qquad \\text{Me}_x = \\text{Mediana}(x_1,\\dots,x_n).\n",
        "$$\n",
        "\n",
        "Per il suo calcolo, creiamo una funzione appropriata:"
      ]
    },
    {
      "cell_type": "code",
      "metadata": {},
      "source": [
        "MAD <- function(x) {\n",
        "  median(abs(x - median(x)))\n",
        "}"
      ],
      "execution_count": null,
      "outputs": []
    },
    {
      "cell_type": "markdown",
      "metadata": {},
      "source": [
        "Il MAD della variabili `emo_A` ed `emo_B` è quindi pari a"
      ]
    },
    {
      "cell_type": "code",
      "metadata": {},
      "source": [
        "MAD(emo_A)\n",
        "MAD(emo_B)"
      ],
      "execution_count": null,
      "outputs": []
    },
    {
      "cell_type": "markdown",
      "metadata": {},
      "source": [
        "## La funzione `tapply` I\n",
        "\n",
        "Esiste un metodo più **elegante** e **veloce** per ottenere questi risultati, basato sulla funzione `tapply`.\n",
        "\n",
        "La funzione `tapply(x, group, fun)` applica una certa funzione `fun` ad un insieme di dati `x`, per ciascun **gruppo** `group`.\n",
        "\n",
        "Per esempio, la media aritmetica di `emo_A` ed `emo_B` si ottiene come segue:"
      ]
    },
    {
      "cell_type": "code",
      "metadata": {},
      "source": [
        "tapply(emoglobina$emoglobina, emoglobina$Metodologia, mean)\n",
        "with(emoglobina, tapply(emoglobina, Metodologia, mean)) # In maniera ancora più compatta"
      ],
      "execution_count": null,
      "outputs": []
    },
    {
      "cell_type": "markdown",
      "metadata": {},
      "source": [
        "## La funzione `tapply` II\n",
        "\n",
        "Pertanto, possiamo ottenere i vari indici di variabilità come segue:"
      ]
    },
    {
      "cell_type": "code",
      "metadata": {},
      "source": [
        "tab <- rbind(\n",
        "  with(emoglobina, tapply(emoglobina, Metodologia, my_var)),\n",
        "  with(emoglobina, tapply(emoglobina, Metodologia, my_sd)),\n",
        "  with(emoglobina, tapply(emoglobina, Metodologia, interquartile_range)),\n",
        "  with(emoglobina, tapply(emoglobina, Metodologia, MAD))\n",
        ")\n",
        "rownames(tab) <- c(\"Varianza\", \"Deviazione Standard\", \"Scarto interquartile\", \"MAD\")\n",
        "tab"
      ],
      "execution_count": null,
      "outputs": []
    },
    {
      "cell_type": "markdown",
      "metadata": {},
      "source": [
        "::: callout-note\n",
        "#### Esercizio\n",
        "\n",
        "Si provi ad usare la funzione `aggregate` per ottenere lo stesso risultato.\n",
        ":::\n",
        "\n",
        "## Esercizio riassuntivo\n",
        "\n",
        "La misura di asimmetria di uso più comune è il cosiddetto **indice di asimmetria** standardizzato di **Pearson**, definito come $$\n",
        "    \\gamma = \\frac{1}{\\text{sqm}(x)^3} \\frac{1}{n} \\sum_{i=1}^n (x_i - \\bar{x})^3 = \\frac{1}{n} \\sum_{i=1}^n \\left(\\frac{x_i - \\bar{x}}{\\sigma}\\right)^3.\n",
        "$$\n",
        "\n",
        "\n",
        "- Si crei una funzione opportuna per il suo calcolo.\n",
        "\n",
        "#### Soluzione dell'esercizio riassuntivo"
      ]
    },
    {
      "cell_type": "code",
      "metadata": {},
      "source": [
        "# Prima possibile implementazione\n",
        "asym <- function(x) {\n",
        "  sqm <- sqrt(mean(x^2) - mean(x)^2)\n",
        "  mean((x - mean(x))^3) / sqm^3\n",
        "}\n",
        "\n",
        "# Implementazione (leggermente) alternativa\n",
        "asym <- function(x) {\n",
        "  sqm <- sqrt(mean(x^2) - mean(x)^2)\n",
        "  z <- (x - mean(x)) / sqm\n",
        "  mean(z^3)\n",
        "}\n",
        "\n",
        "asym(emo_A)"
      ],
      "execution_count": null,
      "outputs": []
    }
  ],
  "metadata": {
    "kernelspec": {
      "name": "ir",
      "language": "R",
      "display_name": "R"
    }
  },
  "nbformat": 4,
  "nbformat_minor": 4
}