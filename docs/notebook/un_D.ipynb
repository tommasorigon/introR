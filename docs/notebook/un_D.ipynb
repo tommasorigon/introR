{
  "cells": [
    {
      "cell_type": "raw",
      "metadata": {},
      "source": [
        "---\n",
        "title: \"R per l'analisi statistica multivariata\"\n",
        "subtitle: \"Unità D: analisi descrittiva dei dati `dde`\"\n",
        "author: \"Tommaso Rigon\"\n",
        "institute: \"Università Milano-Bicocca\"\n",
        "editor: visual\n",
        "execute:\n",
        "  echo: true\n",
        "  warning: true\n",
        "editor_options: \n",
        "  chunk_output_type: console\n",
        "---"
      ]
    },
    {
      "cell_type": "markdown",
      "metadata": {},
      "source": [
        "## Argomenti affrontati\n",
        "\n",
        "-   Frequenze assolute, relative\n",
        "-   La funzione di ripartizione\n",
        "-   Rappresentazioni grafiche (boxplot, istogrammi)\n",
        "-   Indici di posizione (media, mediana, quantili)\n",
        "\n",
        "::: callout-note\n",
        "#### Nota\n",
        "\n",
        "Gli esercizi **R** associati sono disponibili a [questo link](https://tommasorigon.github.io/introR/exe/es_2.html)\n",
        ":::\n",
        "\n",
        "## Il problema epidemiologico\n",
        "\n",
        "Il `DDT` è estremamente efficace contro le zanzare da malaria ed è pertanto largamente usato in zone in cui la malaria è endemica.\n",
        "\n",
        "Al tempo stesso, il `DDT` potrebbe costituire un **rischio per la salute**, specialmente nel caso di **donne in gravidanza**.\n",
        "\n",
        "Per un campione di $n = 2312$ donne in gravidanza, viene misurato il `DDE`, ovvero una sostanza connessa al `DDT`, presente nel siero materno durante il terzo trimestre della gravidanza.\n",
        "\n",
        "La variabile `GAD` (Gestational Age at Delivery) misura invece a quale giorno della gravidanza è avvenuto il parto.\n",
        "\n",
        "::: callout-note\n",
        "#### Domanda di ricerca\n",
        "\n",
        "La quantità di `DDE` è maggiore tra donne che hanno partorito prematuramente?\n",
        ":::\n",
        "\n",
        "## Importazione dei dati `dde`\n",
        "\n",
        "Per poter procedere con i prossimi comandi, è necessario scaricare il file `dde.csv` e salvarlo nel proprio computer. [Link al file](../dataset/dde.csv)"
      ]
    },
    {
      "cell_type": "code",
      "metadata": {},
      "source": [
        "dde <- read.table(\"../dataset/dde.csv\", header = TRUE, sep = \",\")"
      ],
      "execution_count": null,
      "outputs": []
    },
    {
      "cell_type": "markdown",
      "metadata": {},
      "source": [
        "In alternativa, possiamo semplice ottenerli usando il link:"
      ]
    },
    {
      "cell_type": "code",
      "metadata": {},
      "source": [
        "#| eval: false\n",
        "dde <- read.table(\"https://tommasorigon.github.io/introR/dataset/dde.csv\",\n",
        "  header = TRUE, sep = \",\"\n",
        ") # Scarica il file da internet"
      ],
      "execution_count": null,
      "outputs": []
    },
    {
      "cell_type": "code",
      "metadata": {},
      "source": [
        "str(dde)"
      ],
      "execution_count": null,
      "outputs": []
    },
    {
      "cell_type": "markdown",
      "metadata": {},
      "source": [
        "Si noti la presenza di una nuova **tipologia di variabile**, ovvero `integer`, ovvero **numeri interi**.\n",
        "\n",
        "## Operazioni preliminari\n",
        "\n",
        "Un totale di $361$ donne hanno **partorito prematuramente**, ovvero prima della conclusione della 37a settimana.\n",
        "\n",
        "Per verificare questo, dividiamo la variabile `DDE` in due gruppi."
      ]
    },
    {
      "cell_type": "code",
      "metadata": {},
      "source": [
        "dde_preterm <- dde$DDE[dde$GAD < 37 * 7] # Gruppo parto prematuro\n",
        "dde_non_preterm <- dde$DDE[dde$GAD >= 37 * 7] # Gruppo parto non prematuro\n",
        "\n",
        "length(dde_preterm) # Numerosità campionaria gruppo 1\n",
        "length(dde_non_preterm) # Numerosità campionaria gruppo 2"
      ],
      "execution_count": null,
      "outputs": []
    },
    {
      "cell_type": "markdown",
      "metadata": {},
      "source": [
        "Il primo gruppo (variabile `dde_preterm`) fa riferimento ai parti prematuri e comprende $361$ osservazioni.\n",
        "\n",
        "Il secondo gruppo (variabile `dde_non_preterm`) considera i parti non prematuri e comprende le restanti $1951$ osservazioni.\n",
        "\n",
        "## Suddivisione in intervalli\n",
        "\n",
        "Per sintetizzare i dati tramite **frequenze**, possiamo suddividere l'intervallo che contiene tutti i valori osservati (ovvero $(0,180]$) in un certo numero di **sotto-intervalli**.\n",
        "\n",
        "In primo luogo, definiamo i $10$ sotto-intervalli di lunghezza $18$, chiusi a destra tramite il comando `cut`:"
      ]
    },
    {
      "cell_type": "code",
      "metadata": {},
      "source": [
        "breaks <- 18 * (0:10) # Definizione degli intervalli. Usiamo 10 intervalli di lunghezza 18.\n",
        "\n",
        "dde_preterm_class <- cut(dde_preterm, breaks = breaks)\n",
        "dde_non_preterm_class <- cut(dde_non_preterm, breaks = breaks)\n",
        "\n",
        "head(dde_preterm_class)"
      ],
      "execution_count": null,
      "outputs": []
    },
    {
      "cell_type": "markdown",
      "metadata": {},
      "source": [
        "In questo modo, abbiamo trasformato una variabile `numeric` in una variabile `factor`.\n",
        "\n",
        "## Frequenze assolute\n",
        "\n",
        "Le **frequenze assolute** $n_1,\\dots, n_k$ si ottengono quindi tramite il comando `table`, il quale ha senso di essere applicato su variabili di tipo `factor`.\n",
        "\n",
        "La funzione `table` **conteggia** quante volte una determinata modalità compare nel vettore.\n",
        "\n",
        "Eseguiamo questa operazione per entrambi i gruppi di dati:"
      ]
    },
    {
      "cell_type": "code",
      "metadata": {},
      "source": [
        "freq_abs_preterm <- table(dde_preterm_class)\n",
        "freq_abs_preterm\n",
        "\n",
        "freq_abs_non_preterm <- table(dde_non_preterm_class)\n",
        "freq_abs_non_preterm"
      ],
      "execution_count": null,
      "outputs": []
    },
    {
      "cell_type": "markdown",
      "metadata": {},
      "source": [
        "## Frequenze relative\n",
        "\n",
        "Una volta ottenute le frequenze assolute, è possibile calcolare le **frequenze relative**.\n",
        "\n",
        "Sebbene sia possibile usare comando `prop.table` (lo re-incontreremo in seguito), qui seguiamo una via più diretta.\n",
        "\n",
        "Si ricordi infatti che $n = n_1 + \\cdots + n_k$, pertanto possiamo ottenere le frequenze relative $f_j = n_j / n$ come segue:"
      ]
    },
    {
      "cell_type": "code",
      "metadata": {},
      "source": [
        "freq_rel_preterm <- freq_abs_preterm / sum(freq_abs_preterm)\n",
        "round(freq_rel_preterm, digits = 3)\n",
        "\n",
        "freq_rel_non_preterm <- freq_abs_non_preterm / sum(freq_abs_non_preterm)\n",
        "round(freq_rel_non_preterm, digits = 3)"
      ],
      "execution_count": null,
      "outputs": []
    },
    {
      "cell_type": "markdown",
      "metadata": {},
      "source": [
        "## Organizzazione dei risultati\n",
        "\n",
        "Raccogliamo quindi i risultati appena ottenuti all'interno di una matrice, per poterli visualizzare meglio."
      ]
    },
    {
      "cell_type": "code",
      "metadata": {},
      "source": [
        "tab_summary <- cbind(\n",
        "  freq_abs_preterm, freq_abs_non_preterm,\n",
        "  freq_rel_preterm, freq_rel_non_preterm\n",
        ")\n",
        "\n",
        "colnames(tab_summary) <- c(\n",
        "  \"n_j prematura\",\n",
        "  \"n_j non prematura\",\n",
        "  \"f_j prematura\",\n",
        "  \"f_j non prematura\"\n",
        ")\n",
        "\n",
        "round(tab_summary, 3) # Visualizzazione dei risultati"
      ],
      "execution_count": null,
      "outputs": []
    },
    {
      "cell_type": "markdown",
      "metadata": {},
      "source": [
        "## Gli istogrammi I\n",
        "\n",
        "L'**istogramma** consente di rappresentare graficamente una distribuzione di frequenza. Per rinfrescare la memoria, si ricordi che nella sua versione più semplice si pone:\n",
        "\n",
        "$$\n",
        "\\begin{aligned}\n",
        "(\\text{base rettangoli}) &= (\\text{lunghezza intervalli}) \\\\\n",
        "(\\text{altezza rettangoli}) &= (\\text{frequenze assolute}) \n",
        "\\end{aligned}\n",
        "$$\n",
        "\n",
        "Questa definizione **non è appropriata** se gli **intervalli** hanno **dimensioni diverse**.\n",
        "\n",
        "In tal caso, è le altezze dei rettangoli devono essere **proporzionali** alla **densità** delle osservazioni nelle singole classi.\n",
        "\n",
        "Ricapitolando, costruiremo gli istogrammi ponendo\n",
        "\n",
        "$$\n",
        "\\begin{aligned}\n",
        "(\\text{base rettangoli}) &= (\\text{lunghezza intervalli}) \\\\\n",
        "(\\text{altezza rettangoli}) &= \\lambda \\times (\\text{densità}) = \\lambda \\times \\frac{(\\text{frequenze assolute}) }{(\\text{lunghezza intervalli})} \n",
        "\\end{aligned}\n",
        "$$\n",
        "\n",
        "dove tipicamente si pone $\\lambda = 1/n$.\n",
        "\n",
        "## Gli istogrammi II\n",
        "\n",
        "Concentriamoci inizialmente solo sul gruppo di **nascite non premature**, per capire il funzionamento della sintassi di **R**."
      ]
    },
    {
      "cell_type": "code",
      "metadata": {},
      "source": [
        "par(mfrow = c(1, 2)) # Divide il grafico in due parti\n",
        "\n",
        "# Primo grafico, frequenze assolute\n",
        "hist(dde_non_preterm,\n",
        "  freq = TRUE,\n",
        "  breaks = 10, # Utilizzo 10 sotto-intervalli\n",
        "  # Da qui in poi stiamo solo aggiungendo dettagli estetici\n",
        "  main = \"Nascite non premature\",\n",
        "  xlab = \"DDE\",\n",
        "  ylab = \"Frequenze assolute\"\n",
        ")\n",
        "\n",
        "# Secondo grafico, densità\n",
        "hist(dde_non_preterm,\n",
        "  freq = FALSE, # NON vengono usate le frequenze\n",
        "  breaks = 10, # Utilizzo 10 sotto-intervalli\n",
        "  # Da qui in poi stiamo solo aggiungendo dettagli estetici\n",
        "  main = \"Nascite non premature\",\n",
        "  xlab = \"DDE\",\n",
        "  ylab = \"Densità\"\n",
        ")"
      ],
      "execution_count": null,
      "outputs": []
    },
    {
      "cell_type": "markdown",
      "metadata": {},
      "source": [
        "Istogramma basato sulle **frequenze assolute** (sinistra) e sulla **densità** (destra), solamente per il gruppo di nascite non premature.\n",
        "\n",
        "## Gli istogrammi III\n",
        "\n",
        "::: callout-warning\n",
        "Nel caso di intervalli **non equispaziati**, è obbligatorio utilizzare l'opzione `freq = FALSE`, altrimenti il grafico prodotto risulta privo di senso.\n",
        ":::"
      ]
    },
    {
      "cell_type": "code",
      "metadata": {},
      "source": [
        "# Definizione di intervalli NON equispaziati\n",
        "breaks <- c(5 * 0:10, 70, 90, 110, 130, 150, 170, 190)\n",
        "\n",
        "# GRAFICO CORRETTO\n",
        "hist(dde_non_preterm,\n",
        "  freq = FALSE,\n",
        "  breaks = breaks,\n",
        "  # Da qui in poi stiamo solo aggiungendo dettagli estetici\n",
        "  main = \"GRAFICO CORRETTO\", xlab = \"DDE\", ylab = \"Densità\"\n",
        ")\n",
        "\n",
        "# GRAFICO ERRATO\n",
        "hist(dde_non_preterm,\n",
        "  freq = TRUE, # NON vengono usate le frequenze\n",
        "  breaks = breaks,\n",
        "  # Da qui in poi stiamo solo aggiungendo dettagli estetici\n",
        "  main = \"GRAFICO ERRATO\", xlab = \"DDE\", ylab = \"Frequenze assolute\"\n",
        ")"
      ],
      "execution_count": null,
      "outputs": []
    },
    {
      "cell_type": "markdown",
      "metadata": {},
      "source": [
        "Il grafico di sinistra è corretto e fa uso della nozione di **densità** spiegata in precedenza. Il grafico di destra è **errato**.\n",
        "\n",
        "Fortunatamente **R** ci avvisa tramite un `warning` che questa procedura è scorretta.\n",
        "\n",
        "## Il numero di intervalli\n",
        "\n",
        "Un numero **troppo basso** di intervalli comporta una **perdita di informazione**.\n",
        "\n",
        "Viceversa, un numero **troppo alto** di intervalli comporta una **perdita di sintesi**.\n",
        "\n",
        "Si tenga presente che il **numero degli intervalli** deve dipendere dal **numero dei dati**.\n",
        "\n",
        "Sono state proposte varie formule per identificare il \"numero ottimale\" di intervalli. Vanno però prese come dei suggerimenti e non usate in maniera automatica.\n",
        "\n",
        "**Sturges**. Il numero di intervalli, approssimato all'intero più vicino, è $$ \n",
        "(\\text{numero di intervalli}) = 1 + \\log_2{n}. \n",
        "$$\n",
        "\n",
        "**Freedman & Diaconis**. Il numero di intervalli, approssimato all'intero più vicino, è $$ \n",
        "(\\text{numero di intervalli})  = \\frac{x_{(n)} - x_{(1)}}{2(\\mathcal{Q}_{0.75} - \\mathcal{Q}_{0.25})}n^{1/3}. \n",
        "$$\n",
        "\n",
        "## Il numero di intervalli II\n",
        "\n",
        "Il numero \"ottimale\" di intervalli si può ottenere tramite i comandi seguenti:"
      ]
    },
    {
      "cell_type": "code",
      "metadata": {},
      "source": [
        "nclass.Sturges(dde_non_preterm) # Regola di Sturges\n",
        "nclass.FD(dde_non_preterm) # Regola di Freedman e Diaconis"
      ],
      "execution_count": null,
      "outputs": []
    },
    {
      "cell_type": "markdown",
      "metadata": {},
      "source": [
        "::: callout-note\n",
        "#### Nota\n",
        "\n",
        "Il comando `hist` di **R**, se non viene specificato diversamente tramite l'opzione `breaks`, seleziona in automatico intervalli **equispaziati** tramite la regola di **Sturges**.\n",
        ":::\n",
        "\n",
        "## Confronto tra le due distribuzioni\n",
        "\n",
        "Questo grafico conclusivo consente finalmente di confrontare le due distribuzioni."
      ]
    },
    {
      "cell_type": "code",
      "metadata": {},
      "source": [
        "hist(dde_non_preterm, # Gruppo nascite non-premature\n",
        "  freq = FALSE,\n",
        "  main = \"Nascite non premature\"\n",
        ")\n",
        "\n",
        "hist(dde_preterm, # Gruppo nascite premature\n",
        "  freq = FALSE,\n",
        "  main = \"Nascite premature\"\n",
        ")"
      ],
      "execution_count": null,
      "outputs": []
    },
    {
      "cell_type": "markdown",
      "metadata": {},
      "source": [
        "Eventualmente, è possibile selezionare una regola diversa ponendo `breaks = \"FD\"`.\n",
        "\n",
        "La distribuzione di \"nascite premature\" risulta più spostata a destra.\n",
        "\n",
        "## La funzione di ripartizione empirica I\n",
        "\n",
        "Una seconda rappresentazione grafica di uso frequente è la cosiddetta **funzione di ripartizione empirica** $F(x)$.\n",
        "\n",
        "Siano $x_1,\\dots,x_n$ una collezione di dati, allora definiamo $$\n",
        "F(x) = \\frac{1}{n} \\sum_{i=1}^n \\mathbb{1}(x_i \\le x),\n",
        "$$ dove $\\mathbb{1}(x_i \\le x)$ è la **funzione indicatrice** e vale $1$ se $x_i \\le x$ e $0$ se $x_i > x$.\n",
        "\n",
        "In **R**, si usa il comando `ecdf` (*empirical cumulative distribution function*), ad esempio:"
      ]
    },
    {
      "cell_type": "code",
      "metadata": {},
      "source": [
        "ecdf(dde_non_preterm)"
      ],
      "execution_count": null,
      "outputs": []
    },
    {
      "cell_type": "markdown",
      "metadata": {},
      "source": [
        "## La funzione di ripartizione empirica II\n",
        "\n",
        "Il comando `ecdf` restituisce come oggetto una vera e propria **funzione**. Infatti:"
      ]
    },
    {
      "cell_type": "code",
      "metadata": {},
      "source": [
        "F_non_preterm <- ecdf(dde_non_preterm)\n",
        "F_non_preterm(c(20, 40, 60)) # Calcola la funzione di ripartizione empirica in 20, 40 e 60\n",
        "sum(dde_non_preterm <= 40) / length(dde_non_preterm) # Comando \"manuale\" alternativo"
      ],
      "execution_count": null,
      "outputs": []
    },
    {
      "cell_type": "markdown",
      "metadata": {},
      "source": [
        "Per farne un grafico, è inoltre sufficiente usare il comando `plot`:"
      ]
    },
    {
      "cell_type": "code",
      "metadata": {},
      "source": [
        "par(mfrow = c(1, 1))\n",
        "plot(ecdf(dde_non_preterm))"
      ],
      "execution_count": null,
      "outputs": []
    },
    {
      "cell_type": "markdown",
      "metadata": {},
      "source": [
        "## La funzione di ripartizione empirica II\n",
        "\n",
        "Per poter confrontare le funzioni di ripartizione dei due gruppi, la sintassi è leggermente più elaborata:"
      ]
    },
    {
      "cell_type": "code",
      "metadata": {},
      "source": [
        "plot(ecdf(dde_preterm),\n",
        "  do.points = FALSE, col = \"blue\",\n",
        "  main = \"Blu: parto prematuro. Rosso: parto non prematuro\",\n",
        "  xlab = \"DDE\",\n",
        "  ylab = \"F(DDE)\"\n",
        ")\n",
        "\n",
        "plot(ecdf(dde_non_preterm), col = \"red\", add = TRUE) # Aggiungo un secondo gruppo"
      ],
      "execution_count": null,
      "outputs": []
    },
    {
      "cell_type": "markdown",
      "metadata": {},
      "source": [
        "L'opzione `do.points = FALSE` omette i \\`\\`pallini'' nel grafico ed è stato aggiunta per ragioni esclusivamente **estetiche**.\n",
        "\n",
        "## Indici di posizione: la media\n",
        "\n",
        "Per quantificare la differenza tra le due distribuzioni, vogliamo trovare le **medie aritmetiche** delle variabili `dde_preterm` e `dde_non_preterm`.\n",
        "\n",
        "In **R** ovviamente esiste un comando apposito:"
      ]
    },
    {
      "cell_type": "code",
      "metadata": {},
      "source": [
        "mean(dde_preterm) # Media aritmetica di DDE per donne con parto prematuro\n",
        "mean(dde_non_preterm) # Media aritmetica di DDE per donne con parto regolare"
      ],
      "execution_count": null,
      "outputs": []
    },
    {
      "cell_type": "markdown",
      "metadata": {},
      "source": [
        "Come ormai ampiamente rilevato, notiamo che il DDE è presente in quantità maggiore tra le donne che hanno partorito prematuramente.\n",
        "\n",
        "La media aritmetica poteva essere ottenuta anche a partire dai comandi che abbiamo incontrato nelle unità precedenti:"
      ]
    },
    {
      "cell_type": "code",
      "metadata": {},
      "source": [
        "n <- length(dde_preterm) # Numerosità campionaria di dde_preterm (=361)\n",
        "sum(dde_preterm) / n # Media aritmetica della variabile dde_preterm"
      ],
      "execution_count": null,
      "outputs": []
    },
    {
      "cell_type": "markdown",
      "metadata": {},
      "source": [
        "## Indici di posizione: la mediana I\n",
        "\n",
        "La mediana (Me) di una variabile è il **valore centrale** della distribuzione, ovvero:\n",
        "\n",
        "$$\n",
        "\\text{Me} = \\begin{cases}x_{\\left(\\frac{n+1}{2}\\right)}, &\\qquad \\text{ se } n \\text{ è dispari},  \\\\[10pt] \\left(x_{(n/2)} + x_{(n/2+1)}\\right)/2,&\\qquad \\text{ se } n \\text{ è pari},\\end{cases}\n",
        "$$ dove $x_{(1)},\\dots,x_{(n)}$ rappresenta il campione ordinato.\n",
        "\n",
        "In **R** esiste un comando apposito:"
      ]
    },
    {
      "cell_type": "code",
      "metadata": {},
      "source": [
        "median(dde_preterm) # Mediana di DDE per donne con parto prematuro\n",
        "median(dde_non_preterm) # Mediana di DDE per donne con parto regolare"
      ],
      "execution_count": null,
      "outputs": []
    },
    {
      "cell_type": "markdown",
      "metadata": {},
      "source": [
        "Si noti (come mai?) che la funzione di ripartizione empirica, valutata nella mediana, è circa pari a `0.5`."
      ]
    },
    {
      "cell_type": "code",
      "metadata": {},
      "source": [
        "F_non_preterm(median(dde_non_preterm))"
      ],
      "execution_count": null,
      "outputs": []
    },
    {
      "cell_type": "markdown",
      "metadata": {},
      "source": [
        "## Indici di posizione: la mediana II\n",
        "\n",
        "La mediana di una variabile numerica si può anche ottenere \"manualmente\"."
      ]
    },
    {
      "cell_type": "code",
      "metadata": {},
      "source": [
        "x <- c(10, 20, 25, 3.5, 28, 62)\n",
        "n <- length(x) # Numerosità campionaria\n",
        "n # Si noti che n = 6 è pari\n",
        "\n",
        "x_sort <- sort(x) # Vettore ordinato dei valori di x\n",
        "x_sort\n",
        "\n",
        "pos_med_1 <- n / 2 # Elemento in posizione n/2\n",
        "pos_med_2 <- n / 2 + 1 # Elemento in posizione n/2+1\n",
        "\n",
        "(x_sort[pos_med_1] + x_sort[pos_med_2]) / 2 # Mediana di x\n",
        "\n",
        "median(x) # Ovviamente, il risultato deve coincidere con:"
      ],
      "execution_count": null,
      "outputs": []
    },
    {
      "cell_type": "markdown",
      "metadata": {},
      "source": [
        "::: callout-note\n",
        "#### Esercizio\n",
        "\n",
        "Si ottenga la mediana \"manualmente\" nel caso in cui il vettore `x` ha un numero dispari di elementi.\n",
        ":::\n",
        "\n",
        "## Indici di posizione: i quantili I\n",
        "\n",
        "Siano $x_1,\\dots,x_n$ un insieme di dati, sia $p \\in (0,1)$ e sia $F(x)$ la funzione di ripartizione empirica. Il **quantile-**$p$ è quindi pari a\n",
        "\n",
        "$$\n",
        "\\mathcal{Q}_p = \\inf\\{ x : F(x) \\ge p \\}.\n",
        "$$\n",
        "\n",
        "In **R** considerando $p = (0.1,0.25,0.75,0.9)$, ovvero il primo decile, il primo quartile, il terzo quartile ed il nono decile, possiamo usare il comando `quantile`"
      ]
    },
    {
      "cell_type": "code",
      "metadata": {},
      "source": [
        "quantile(dde_preterm, probs = c(0.1, 0.25, 0.75, 0.9), type = 1)\n",
        "quantile(dde_non_preterm, probs = c(0.1, 0.25, 0.75, 0.9), type = 1)"
      ],
      "execution_count": null,
      "outputs": []
    },
    {
      "cell_type": "markdown",
      "metadata": {},
      "source": [
        "::: callout-note\n",
        "#### Esercizio\n",
        "\n",
        "Lo studente si convinca che l'implementazione \\`\\`manuale'' del comando \\texttt{quantile} è la seguente:"
      ]
    },
    {
      "cell_type": "code",
      "metadata": {},
      "source": [
        "min(dde_non_preterm[F_non_preterm(dde_non_preterm) >= 0.25])\n",
        "min(dde_non_preterm[F_non_preterm(dde_non_preterm) >= 0.75])"
      ],
      "execution_count": null,
      "outputs": []
    },
    {
      "cell_type": "markdown",
      "metadata": {},
      "source": [
        ":::\n",
        "\n",
        "## Indici di posizione: i quantili II\n",
        "\n",
        "::: callout-note\n",
        "#### Nota\n",
        "\n",
        "La definizione di quantile che abbiamo fornito coincide con quella descritta nel corso Statistica I, ma non è l'unica possibile (Come mai? Si riveda Statistica I...).\n",
        ":::\n",
        "\n",
        "Tale definizione si ottiene con l'opzione `type = 1`, che tuttavia \\*\\*non è il default\\*. Il valore predefinito è invece `type = 7`.\n",
        "\n",
        "Se siete curiosi di conoscere le varie definizioni di quantile, vi ricordo che la **documentazione** è consultabile tramite il comando: `? quantile`.\n",
        "\n",
        "::: callout-note\n",
        "#### Nota\n",
        "\n",
        "Un difetto del quantile `type = 1` è che la mediana non sempre coincide con il quantile $\\mathcal{Q}_{0.5}$. Si trovi un esempio in questo accade e si verifichi che invece il problema viene risolto nel caso `type = 7`.\n",
        ":::\n",
        "\n",
        "## Indici di posizione: i quantili III\n",
        "\n",
        "In **R** esistono in totale ben **9 modi** per calcolare i quantili.\n",
        "\n",
        "Fortunatamente, per numerosità campionarie elevate le **differenze** tendono ad essere **trascurabili**.\n",
        "\n",
        "Elenchiamo qui di seguito alcuni esempi per la variabile `dde_preterm`:"
      ]
    },
    {
      "cell_type": "code",
      "metadata": {},
      "source": [
        "tab <- rbind(\n",
        "  quantile(dde_preterm, probs = c(0.1, 0.25, 0.5, 0.75, 0.9), type = 1),\n",
        "  quantile(dde_preterm, probs = c(0.1, 0.25, 0.5, 0.75, 0.9), type = 6),\n",
        "  quantile(dde_preterm, probs = c(0.1, 0.25, 0.5, 0.75, 0.9), type = 7),\n",
        "  quantile(dde_preterm, probs = c(0.1, 0.25, 0.5, 0.75, 0.9), type = 9)\n",
        ")\n",
        "rownames(tab) <- c(1, 6, 7, 9) # Cambia i nomi alle righe della tabella\n",
        "tab"
      ],
      "execution_count": null,
      "outputs": []
    },
    {
      "cell_type": "markdown",
      "metadata": {},
      "source": [
        "::: callout-tip\n",
        "#### Suggerimento\n",
        "\n",
        "Cosa fa `rbind`? Lo abbiamo incontrato nell'unità A.\n",
        ":::\n",
        "\n",
        "## Il comando `summary`\n",
        "\n",
        "Per ottenere rapidamente le **principali statistiche descrittive** di una distribuzione (minimo, massimo, media, mediana e quartili), si usa spesso il comando `summary`:"
      ]
    },
    {
      "cell_type": "code",
      "metadata": {},
      "source": [
        "summary(dde_preterm)\n",
        "summary(dde_non_preterm)"
      ],
      "execution_count": null,
      "outputs": []
    },
    {
      "cell_type": "markdown",
      "metadata": {},
      "source": [
        "Il comando `summary` può anche essere usato direttamente su un oggetto di tipo `data.frame` producendo il seguente output:"
      ]
    },
    {
      "cell_type": "code",
      "metadata": {},
      "source": [
        "summary(dde)"
      ],
      "execution_count": null,
      "outputs": []
    },
    {
      "cell_type": "markdown",
      "metadata": {},
      "source": [
        "## I boxplot\n",
        "\n",
        "Una rappresentazione grafica alternativa agli istogrammi sono i **boxplot**.\n",
        "\n",
        "Le **statistiche descrittive** su cui si basano i boxplot si possono ottenere tramite il comando `boxplot.stats`, ovvero:"
      ]
    },
    {
      "cell_type": "code",
      "metadata": {},
      "source": [
        "boxplot.stats(dde_preterm)"
      ],
      "execution_count": null,
      "outputs": []
    },
    {
      "cell_type": "code",
      "metadata": {},
      "source": [
        "boxplot(dde_preterm, dde_non_preterm) # Produce il grafico"
      ],
      "execution_count": null,
      "outputs": []
    }
  ],
  "metadata": {
    "kernelspec": {
      "name": "ir",
      "language": "R",
      "display_name": "R"
    }
  },
  "nbformat": 4,
  "nbformat_minor": 4
}