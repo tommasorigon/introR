{
  "cells": [
    {
      "cell_type": "raw",
      "metadata": {},
      "source": [
        "---\n",
        "title: \"R per l'analisi statistica multivariata\"\n",
        "subtitle: \"Unità A: calcolo scientifico ed algebra lineare\"\n",
        "author: \"Tommaso Rigon\"\n",
        "institute: \"Università Milano-Bicocca\"\n",
        "editor: visual\n",
        "execute:\n",
        "  echo: true\n",
        "  warning: true\n",
        "editor_options: \n",
        "  chunk_output_type: console\n",
        "---"
      ]
    },
    {
      "cell_type": "markdown",
      "metadata": {},
      "source": [
        "## Unità A\n",
        "\n",
        "-   A-B-C: il software **R** come calcolatrice scientifica\n",
        "-   Operazioni di routine: pulizia del *workspace*, simboli speciali\n",
        "-   Funzioni matematiche, grafico di una funzione, operazioni logiche\n",
        "-   Operazioni con vettori e matrici\n",
        "\n",
        "::: callout-note\n",
        "#### Nota\n",
        "\n",
        "Esercizi **R** associati sono diponibili a [questo link](https://tommasorigon.github.io/introR/exe/es_1.html)\n",
        ":::\n",
        "\n",
        "## Calcolatrice scientifica\n",
        "\n",
        "Anzitutto, **R** può essere usato come se fosse una *calcolatrice scientifica*:"
      ]
    },
    {
      "cell_type": "code",
      "metadata": {},
      "source": [
        "2 + 2\n",
        "4 * (3 + 5) # La somma entro parentesi viene eseguita per prima\n",
        "pi / 4 # Pi greco quarti"
      ],
      "execution_count": null,
      "outputs": []
    },
    {
      "cell_type": "markdown",
      "metadata": {},
      "source": [
        ". . .\n",
        "\n",
        "Per calcolare la potenza $a^b$ si usa:"
      ]
    },
    {
      "cell_type": "code",
      "metadata": {},
      "source": [
        "2^5 # Sintassi alternativa: 2**5"
      ],
      "execution_count": null,
      "outputs": []
    },
    {
      "cell_type": "markdown",
      "metadata": {},
      "source": [
        ". . .\n",
        "\n",
        "Le quantità $\\sqrt{2}$ e $\\sin(\\pi/4)$ si ottengono invece con i comandi:"
      ]
    },
    {
      "cell_type": "code",
      "metadata": {},
      "source": [
        "sqrt(2)\n",
        "sin(pi / 4)"
      ],
      "execution_count": null,
      "outputs": []
    },
    {
      "cell_type": "markdown",
      "metadata": {},
      "source": [
        ". . .\n",
        "\n",
        "::: callout-note\n",
        "## Nota\n",
        "\n",
        "Tutto ciò che viene scritto dopo un cancelletto (`#`) è considerato un **commento**.\n",
        ":::\n",
        "\n",
        "## Assegnazione di un valore\n",
        "\n",
        "È possibile **salvare un valore** assegnandolo ad un oggetto tramite il simbolo `<-`."
      ]
    },
    {
      "cell_type": "code",
      "metadata": {},
      "source": [
        "# Assegna il valore 5 all'oggetto x\n",
        "x <- sqrt(5) # Sintassi alternativa (sconsigliata): x = sqrt(5)"
      ],
      "execution_count": null,
      "outputs": []
    },
    {
      "cell_type": "markdown",
      "metadata": {},
      "source": [
        ". . .\n",
        "\n",
        "Il valore contenuto in `x` può essere successivamente richiamato, modificato e salvato in un nuovo oggetto, chiamato ad esempio `y`."
      ]
    },
    {
      "cell_type": "code",
      "metadata": {},
      "source": [
        "y <- x + pi # ovvero pi greco + radice quadrata di 5\n",
        "y"
      ],
      "execution_count": null,
      "outputs": []
    },
    {
      "cell_type": "markdown",
      "metadata": {},
      "source": [
        ". . .\n",
        "\n",
        "Per **rimuovere un oggetto** dalla memoria, si usa il comando `rm`, ovvero *remove*."
      ]
    },
    {
      "cell_type": "code",
      "metadata": {},
      "source": [
        "rm(x) # x non è più presente nel \"workspace\""
      ],
      "execution_count": null,
      "outputs": []
    },
    {
      "cell_type": "markdown",
      "metadata": {},
      "source": [
        ". . .\n",
        "\n",
        "::: callout-note\n",
        "## Nota\n",
        "\n",
        "**R** è *case sensitive*, pertanto l'oggetto `x` è diverso dall'oggetto `X`.\n",
        ":::\n",
        "\n",
        "## Pulizia del *workspace*\n",
        "\n",
        "È buona norma mantenere pulito il *workspace*, ovvero l'ambiente di lavoro.\n",
        "\n",
        "Se un oggetto non è più necessario, è possibile eliminarlo tramite il comando `rm`.\n",
        "\n",
        ". . .\n",
        "\n",
        "È possibile visualizzare la lista di oggetti salvati in memoria tramite il comando seguente:"
      ]
    },
    {
      "cell_type": "code",
      "metadata": {},
      "source": [
        "ls() # Nel workspace è presente l'oggetto y"
      ],
      "execution_count": null,
      "outputs": []
    },
    {
      "cell_type": "markdown",
      "metadata": {},
      "source": [
        ". . .\n",
        "\n",
        "Pertanto, per **eliminare** tutti gli **oggetti** salvati, si può usare"
      ]
    },
    {
      "cell_type": "code",
      "metadata": {},
      "source": [
        "rm(list = ls())"
      ],
      "execution_count": null,
      "outputs": []
    },
    {
      "cell_type": "markdown",
      "metadata": {},
      "source": [
        "## Alcune funzioni matematiche I\n",
        "\n",
        "Supponiamo che `x` sia un **numero reale**.\n",
        "\n",
        "Ciò che seguono sono una lista di funzioni disponibili in **R**:"
      ]
    },
    {
      "cell_type": "code",
      "metadata": {},
      "source": [
        "x <- 1/2 # Esempio di numero reale"
      ],
      "execution_count": null,
      "outputs": []
    },
    {
      "cell_type": "markdown",
      "metadata": {},
      "source": [
        ". . ."
      ]
    },
    {
      "cell_type": "code",
      "metadata": {},
      "source": [
        "exp(x) # Esponenziale e logaritmo naturale\n",
        "log(x)"
      ],
      "execution_count": null,
      "outputs": []
    },
    {
      "cell_type": "markdown",
      "metadata": {},
      "source": [
        ". . ."
      ]
    },
    {
      "cell_type": "code",
      "metadata": {},
      "source": [
        "abs(x) # Valore assoluto\n",
        "sign(x) # Funzione segno"
      ],
      "execution_count": null,
      "outputs": []
    },
    {
      "cell_type": "markdown",
      "metadata": {},
      "source": [
        "## Alcune funzioni matematiche II"
      ]
    },
    {
      "cell_type": "code",
      "metadata": {},
      "source": [
        "sin(x) # Funzioni trigonometriche (seno, coseno, tangente)\n",
        "cos(x)\n",
        "tan(x)"
      ],
      "execution_count": null,
      "outputs": []
    },
    {
      "cell_type": "markdown",
      "metadata": {},
      "source": [
        ". . ."
      ]
    },
    {
      "cell_type": "code",
      "metadata": {},
      "source": [
        "asin(x) # Funzioni trigonometriche inverse\n",
        "acos(x)\n",
        "atan(x)"
      ],
      "execution_count": null,
      "outputs": []
    },
    {
      "cell_type": "markdown",
      "metadata": {},
      "source": [
        ". . .\n",
        "\n",
        "::: callout-note\n",
        "## Nota\n",
        "\n",
        "Le funzioni di **R** si possono combinare tra loro, ad esempio `log(abs(x))`.\n",
        ":::\n",
        "\n",
        "## Ulteriori funzioni matematiche I\n",
        "\n",
        "Supponiamo che `x` e `y` siano due **numeri reali**. Inoltre, siano `n` e `k` due **numeri naturali**.\n",
        "\n",
        ". . .\n",
        "\n",
        "Si noti l'uso del `;` che può essere usato per separare due comandi nella stessa riga."
      ]
    },
    {
      "cell_type": "code",
      "metadata": {},
      "source": [
        "x <- 1 / 2; y <- 1 / 3 # Numeri reali \n",
        "n <- 5; k <- 2 # Numeri naturali"
      ],
      "execution_count": null,
      "outputs": []
    },
    {
      "cell_type": "markdown",
      "metadata": {},
      "source": [
        ". . ."
      ]
    },
    {
      "cell_type": "code",
      "metadata": {},
      "source": [
        "factorial(n) # n!\n",
        "choose(n, k) # Coefficiente binomiale"
      ],
      "execution_count": null,
      "outputs": []
    },
    {
      "cell_type": "markdown",
      "metadata": {},
      "source": [
        ". . ."
      ]
    },
    {
      "cell_type": "code",
      "metadata": {},
      "source": [
        "round(x, digits = 2) # Arrotonda x usando 2 cifre decimali\n",
        "floor(x) # Arrotonda x all'intero più vicino, per difetto\n",
        "ceiling(x) # Arrotonda x all'intero più vicino, per eccesso"
      ],
      "execution_count": null,
      "outputs": []
    },
    {
      "cell_type": "markdown",
      "metadata": {},
      "source": [
        "## Ulteriori funzioni matematiche II\n",
        "\n",
        "La funzione gamma $\\Gamma(x) = \\int_0^\\infty s^{x-1} e^{-s} d s$ si calcola in **R** come segue:"
      ]
    },
    {
      "cell_type": "code",
      "metadata": {},
      "source": [
        "gamma(x) # Funzione gamma"
      ],
      "execution_count": null,
      "outputs": []
    },
    {
      "cell_type": "markdown",
      "metadata": {},
      "source": [
        ". . .\n",
        "\n",
        "La funzione beta $\\mathcal{B}(x,y) = \\int_0^1 s^{x-1}(1-s)^{y-1}ds$ si calcola in **R** come segue:"
      ]
    },
    {
      "cell_type": "code",
      "metadata": {},
      "source": [
        "beta(x, y) # Funzione beta"
      ],
      "execution_count": null,
      "outputs": []
    },
    {
      "cell_type": "markdown",
      "metadata": {},
      "source": [
        "## Grafico di una funzione\n",
        "\n",
        "In **R** è possibile **disegnare** una qualsiasi funzione tramite il comando `curve`.\n",
        "\n",
        "Se ad esempio si considera la funzione $$f(x) = \\frac{\\sin(x)}{x},$$ allora possiamo disegnare $f(x)$ nell'intervallo $(0,15)$ come segue:"
      ]
    },
    {
      "cell_type": "code",
      "metadata": {
        "fig-width": 12,
        "fig-height": 5.5
      },
      "source": [
        "curve(sin(x) / x, from = 0, to = 15)"
      ],
      "execution_count": null,
      "outputs": []
    },
    {
      "cell_type": "markdown",
      "metadata": {},
      "source": [
        "## La documentazione ufficiale\n",
        "\n",
        "La documentazione di **R** è la principale fonte di informazioni.\n",
        "\n",
        "A cosa serve una funzione? Qual è la definizione dei suoi argomenti? La risposta va sempre cercata nella **documentazione ufficiale** e non in queste slide.\n",
        "\n",
        ". . .\n",
        "\n",
        "Il comando `? funzione` apre una finestra in cui vengono descritta nel dettaglio una funzione. Esempio:"
      ]
    },
    {
      "cell_type": "code",
      "metadata": {},
      "source": [
        "? log # Documentazione della funzione log"
      ],
      "execution_count": null,
      "outputs": []
    },
    {
      "cell_type": "markdown",
      "metadata": {},
      "source": [
        ". . .\n",
        "\n",
        "::: callout-tip\n",
        "## Nota riguardante l'esame\n",
        "\n",
        "Durante la prova d'esame è legittimo (anzi, è caldamente consigliato) consultare la documentazione.\n",
        ":::\n",
        "\n",
        "## Simboli speciali\n",
        "\n",
        "Numeri molto grandi, come $10^{15}$, e molto piccoli, come $10^{-15}$, in **R** vengono rappresentati come segue:"
      ]
    },
    {
      "cell_type": "code",
      "metadata": {},
      "source": [
        "10^15\n",
        "10^(-15)"
      ],
      "execution_count": null,
      "outputs": []
    },
    {
      "cell_type": "markdown",
      "metadata": {},
      "source": [
        ". . .\n",
        "\n",
        "Per questioni di approssimazione numerica, quando un numero è troppo grande **R** riporta `Inf`, ovvero **infinito**. Per esempio:"
      ]
    },
    {
      "cell_type": "code",
      "metadata": {},
      "source": [
        "10^1000 # Numero molto grande, anche se finito"
      ],
      "execution_count": null,
      "outputs": []
    },
    {
      "cell_type": "markdown",
      "metadata": {},
      "source": [
        ". . .\n",
        "\n",
        "Il simbolo `NaN` significa invece *Not a Number* e si ottiene quando qualche funzione matematica non è stata usata nel modo corretto. Ad esempio:"
      ]
    },
    {
      "cell_type": "code",
      "metadata": {},
      "source": [
        "log(-1) # Questo comando genera inoltre un avviso"
      ],
      "execution_count": null,
      "outputs": []
    },
    {
      "cell_type": "markdown",
      "metadata": {},
      "source": [
        "## Errori di approssimazione numerica\n",
        "\n",
        "È ben noto che $\\sin(\\pi) = 0$. Tuttavia, in **R** si ottiene un numero molto vicino a $0$, ma strettamente positivo. Infatti:"
      ]
    },
    {
      "cell_type": "code",
      "metadata": {},
      "source": [
        "sin(pi)"
      ],
      "execution_count": null,
      "outputs": []
    },
    {
      "cell_type": "markdown",
      "metadata": {},
      "source": [
        ". . .\n",
        "\n",
        "**R** è uno strumento di calcolo numerico e pertanto sono sempre presenti **errori di approssimazione numerica**.\n",
        "\n",
        "Fortunatamente, nella maggior parte dei casi pratici la differenza tra $0$ e $10^{-16}$ è del tutto irrilevante.\n",
        "\n",
        "In altre situazioni, errori di approssimazione numerica possono portare a conclusioni fuorvianti. Occorre quindi fare attenzione e valutare caso per caso.\n",
        "\n",
        ". . .\n",
        "\n",
        "Ad ogni modo, l'approssimazione numerica potrebbe anche migliorare. Ad esempio:"
      ]
    },
    {
      "cell_type": "code",
      "metadata": {},
      "source": [
        "cos(pi)"
      ],
      "execution_count": null,
      "outputs": []
    },
    {
      "cell_type": "markdown",
      "metadata": {},
      "source": [
        "## Operazioni logiche\n",
        "\n",
        "In **R** è spesso necessario verificare se una o più condizioni sono verificate o meno."
      ]
    },
    {
      "cell_type": "code",
      "metadata": {},
      "source": [
        "x <- 5\n",
        "x < 0 # Il valore di x è minore di 0?\n",
        "a <- (x == -3) # Il valore di x è uguale a -3?\n",
        "a"
      ],
      "execution_count": null,
      "outputs": []
    },
    {
      "cell_type": "markdown",
      "metadata": {},
      "source": [
        ". . .\n",
        "\n",
        "Il valore di `a` è un indicatore **binario** o **booleano**, ovvero può essere vero (`TRUE`) oppure falso (`FALSE`).\n",
        "\n",
        ". . .\n",
        "\n",
        "Altre **funzioni logiche** disponibili (assumendo che `y` sia un numero e `b` un booleano) sono:"
      ]
    },
    {
      "cell_type": "code",
      "metadata": {},
      "source": [
        "a <- TRUE; b <- FALSE; x <- 5; y <- 7\n",
        "x >= y # x è maggiore o uguale a y? (Si usa \"<=\" per minore uguale)\n",
        "x != y # x è diverso da y?\n",
        "a & b # a AND b. I valori booleani a e b sono entrambi veri?\n",
        "a | b # a OR b. Almeno uno tra a ed b è vero?"
      ],
      "execution_count": null,
      "outputs": []
    },
    {
      "cell_type": "markdown",
      "metadata": {},
      "source": [
        "## Vettori\n",
        "\n",
        "Un **vettore** in **R** viene definito tramite la funzione `c()`, come nel seguente esempio:"
      ]
    },
    {
      "cell_type": "code",
      "metadata": {},
      "source": [
        "x <- c(4, 2, 2, 8, 10) \n",
        "x"
      ],
      "execution_count": null,
      "outputs": []
    },
    {
      "cell_type": "markdown",
      "metadata": {},
      "source": [
        ". . .\n",
        "\n",
        "::: callout-note\n",
        "## Nota\n",
        "\n",
        "Con il termine generico \"**vettore**\" in **R** non si fa riferimento alla nozione dell'algebra lineare ma semplicemente ad una stringa di valori ordinati.\n",
        ":::\n",
        "\n",
        "Il seguente oggetto è un **vettore** in **R**, nonostante l'oggetto `x` sia composto sia numeri che da lettere"
      ]
    },
    {
      "cell_type": "code",
      "metadata": {},
      "source": [
        "x <- c(\"A\", \"B\", 2, 8, 10)\n",
        "x"
      ],
      "execution_count": null,
      "outputs": []
    },
    {
      "cell_type": "markdown",
      "metadata": {},
      "source": [
        "## Creazione di vettori\n",
        "\n",
        "Talvolta è comodo creare dei vettori i cui elementi sono dei **numeri consecutivi**"
      ]
    },
    {
      "cell_type": "code",
      "metadata": {},
      "source": [
        "x <- 5:10 # Equivalente a: x <- c(5, 6, 7, 8, 9, 10)\n",
        "x"
      ],
      "execution_count": null,
      "outputs": []
    },
    {
      "cell_type": "markdown",
      "metadata": {},
      "source": [
        ". . .\n",
        "\n",
        "Per creare una successione di **numeri reali** si usa il comando `seq`:"
      ]
    },
    {
      "cell_type": "code",
      "metadata": {},
      "source": [
        "x <- seq(from = 0, to = 1, by = 0.1)\n",
        "x"
      ],
      "execution_count": null,
      "outputs": []
    },
    {
      "cell_type": "markdown",
      "metadata": {},
      "source": [
        ". . .\n",
        "\n",
        "Per creare un vettore di **valori ripetuti** si usa il comando `rep`:"
      ]
    },
    {
      "cell_type": "code",
      "metadata": {},
      "source": [
        "x <- rep(10, 7) # Vettore in cui il numero 10 è ripetuto 7 volte\n",
        "x"
      ],
      "execution_count": null,
      "outputs": []
    },
    {
      "cell_type": "markdown",
      "metadata": {},
      "source": [
        "## Operazioni sui vettori I\n",
        "\n",
        "La maggior parte delle funzioni matematiche di **R** sono **vettorizzate**. In altri termini, le funzioni agiscono su tutti gli elementi di un vettore."
      ]
    },
    {
      "cell_type": "code",
      "metadata": {},
      "source": [
        "exp(1:6) + (1:6) / 2 + 1 # Esempio 1"
      ],
      "execution_count": null,
      "outputs": []
    },
    {
      "cell_type": "markdown",
      "metadata": {},
      "source": [
        ". . ."
      ]
    },
    {
      "cell_type": "code",
      "metadata": {},
      "source": [
        "x <- c(10, 10^2, 10^3, 10^4, 10^5, 10^6) # Esempio 2\n",
        "log(x, base = 10)"
      ],
      "execution_count": null,
      "outputs": []
    },
    {
      "cell_type": "markdown",
      "metadata": {},
      "source": [
        ". . ."
      ]
    },
    {
      "cell_type": "code",
      "metadata": {},
      "source": [
        "1:8 > 4 # Esempio 3"
      ],
      "execution_count": null,
      "outputs": []
    },
    {
      "cell_type": "markdown",
      "metadata": {},
      "source": [
        ". . .\n",
        "\n",
        "Altre funzioni invece sono utili proprio nel caso in cui l'**argomento** sia un **vettore**:"
      ]
    },
    {
      "cell_type": "code",
      "metadata": {},
      "source": [
        "x <- c(2, 3, 1, 3, 10, 5)\n",
        "length(x) # Lunghezza del vettore\n",
        "sum(x) # Somma degli elementi del vettore\n",
        "cumsum(x) # Somme cumulate"
      ],
      "execution_count": null,
      "outputs": []
    },
    {
      "cell_type": "markdown",
      "metadata": {},
      "source": [
        "## Operazioni sui vettori II\n",
        "\n",
        "Ulteriori semplici operazioni in cui l'argomento è un vettore sono elencate nel seguito:"
      ]
    },
    {
      "cell_type": "code",
      "metadata": {},
      "source": [
        "x <- c(2, 3, 1, 3, 10, 5)\n",
        "prod(x) # Prodotto degli elementi del vettore\n",
        "cumprod(x) # Prodotti cumulati\n",
        "sort(x, decreasing = FALSE) # Vettore ordinato in ordine crescente\n",
        "min(x) # Valore minimo\n",
        "which.min(x) # Posizione del valore corrispondente al minimo"
      ],
      "execution_count": null,
      "outputs": []
    },
    {
      "cell_type": "markdown",
      "metadata": {},
      "source": [
        ". . .\n",
        "\n",
        "Infine, il funzionamento delle seguenti funzioni dovrebbero essere intuibile da quanto visto finora:"
      ]
    },
    {
      "cell_type": "code",
      "metadata": {},
      "source": [
        "max(x) # Valore massimo\n",
        "which.max(x) # Posizione del valore corrispondente al massimo\n",
        "range(x) # Equivalente a: c(min(x), max(x))"
      ],
      "execution_count": null,
      "outputs": []
    },
    {
      "cell_type": "markdown",
      "metadata": {},
      "source": [
        "## Operazioni sui vettori III\n",
        "\n",
        "È possibile **selezionare gli elementi** di un vettore usando le parentesi quadrate, come nei seguenti esempi:"
      ]
    },
    {
      "cell_type": "code",
      "metadata": {},
      "source": [
        "# Concatenazione di vettori\n",
        "x <- c(rep(pi, 2), sqrt(2), c(10, 7))\n",
        "x[3] # Estrae il terzo elemento dal vettore x, ovvero sqrt(2)\n",
        "x[c(1, 3, 5)] # Estrae il primo, il terzo ed il quinto elemento\n",
        "x[-c(1, 3, 5)] # Elimina il primo, il terzo ed il quinto elemento\n",
        "x[x > 3.5] # Estrae gli elementi maggiori di 3.5"
      ],
      "execution_count": null,
      "outputs": []
    },
    {
      "cell_type": "markdown",
      "metadata": {},
      "source": [
        ". . .\n",
        "\n",
        "L'ultimo comando suggerisce che gli elementi di un vettore possono essere selezionati tramite una **condizione** relativa al vettore stesso.\n",
        "\n",
        "## Operazione sui vettori: avvertenze\n",
        "\n",
        "Cosa succede quando vengono sommati due vettori di dimensioni diverse?\n",
        "\n",
        "::: callout-warning\n",
        "La maggior parte dei linguaggi di programmazione restituisce un errore. **R** invece esegue ugualmente l'operazione \"allungando\" il vettore più corto.\n",
        ":::\n",
        "\n",
        ". . .\n",
        "\n",
        "In questo primo esempio, quantomeno **R** restituisce un *warning*."
      ]
    },
    {
      "cell_type": "code",
      "metadata": {},
      "source": [
        "# Concatenazione di vettori\n",
        "x <- 1:5\n",
        "y <- 1:6\n",
        "x + y # Equivalente a: c(x, x[1]) + y"
      ],
      "execution_count": null,
      "outputs": []
    },
    {
      "cell_type": "markdown",
      "metadata": {},
      "source": [
        ". . .\n",
        "\n",
        "In questo secondo esempio, invece, **R** non restituisce alcun avviso, rendendo la cosa particolarmente pericolosa"
      ]
    },
    {
      "cell_type": "code",
      "metadata": {},
      "source": [
        "x <- 1:3\n",
        "y <- 1:6\n",
        "x + y # Equivalente a: c(x, x) + y"
      ],
      "execution_count": null,
      "outputs": []
    },
    {
      "cell_type": "markdown",
      "metadata": {},
      "source": [
        "## Matrici\n",
        "\n",
        "Una **matrice** ${\\bf A}$ è una collezione di elementi $(a)_{ij}$ per $i=1,\\dots,n$ e $j=1,\\dots,m$.\n",
        "\n",
        ". . .\n",
        "\n",
        "Per esempio, la matrice quadrata di dimensione $2 \\times 2$\n",
        "\n",
        "$${\\bf A} = \\begin{pmatrix}\n",
        "5 & 2\\\\\n",
        "1 & 4 \\\\\n",
        "\\end{pmatrix},$$ si può definire in **R** tramite il comando `matrix` come segue:"
      ]
    },
    {
      "cell_type": "code",
      "metadata": {},
      "source": [
        "A <- matrix(c(5, 1, 2, 4), nrow = 2, ncol = 2)\n",
        "A"
      ],
      "execution_count": null,
      "outputs": []
    },
    {
      "cell_type": "markdown",
      "metadata": {},
      "source": [
        ". . .\n",
        "\n",
        "È inoltre possibile elencare gli elementi **riga per riga**"
      ]
    },
    {
      "cell_type": "code",
      "metadata": {},
      "source": [
        "# Definizione equivalente\n",
        "A <- matrix(c(5, 2, 1, 4), nrow = 2, ncol = 2, byrow = TRUE)"
      ],
      "execution_count": null,
      "outputs": []
    },
    {
      "cell_type": "markdown",
      "metadata": {},
      "source": [
        "## Vettori riga e vettori colonna\n",
        "\n",
        "Una matrice con una sola colonna è un **vettore colonna**:"
      ]
    },
    {
      "cell_type": "code",
      "metadata": {},
      "source": [
        "x_col <- matrix(c(1, 10, 3, 5), ncol = 1)\n",
        "x_col"
      ],
      "execution_count": null,
      "outputs": []
    },
    {
      "cell_type": "markdown",
      "metadata": {},
      "source": [
        ". . .\n",
        "\n",
        "Una matrice con una sola colonna è un **vettore riga**:"
      ]
    },
    {
      "cell_type": "code",
      "metadata": {},
      "source": [
        "x_row <- matrix(c(1, 10, 3, 5), nrow = 1)\n",
        "x_row"
      ],
      "execution_count": null,
      "outputs": []
    },
    {
      "cell_type": "markdown",
      "metadata": {},
      "source": [
        "## Vettori riga e vettori di **R**\n",
        "\n",
        "Nella maggior parte dei casi, il **{vettore riga** `x_row` è intercambiabile col vettore `x`."
      ]
    },
    {
      "cell_type": "code",
      "metadata": {},
      "source": [
        "x_row <- matrix(c(1, 10, 3, 5), nrow = 1)\n",
        "x <- c(1, 10, 3, 5) # Simile, ma non identico, a x_row"
      ],
      "execution_count": null,
      "outputs": []
    },
    {
      "cell_type": "markdown",
      "metadata": {},
      "source": [
        "Ad esempio, le funzioni `sum(x_row)` e `sum(x)` forniscono lo stesso risultato.\n",
        "\n",
        ". . .\n",
        "\n",
        "Ci sono tuttavia alcune lievi distinzioni. Ad esempio:"
      ]
    },
    {
      "cell_type": "code",
      "metadata": {},
      "source": [
        "dim(x_row)\n",
        "dim(x)"
      ],
      "execution_count": null,
      "outputs": []
    },
    {
      "cell_type": "markdown",
      "metadata": {},
      "source": [
        "Il simbolo `NULL` significa **non definito**, perché non esiste la nozione di dimensione per un generico vettore **R**.\n",
        "\n",
        "## Operazioni sulle matrici I\n",
        "\n",
        "È possibile **selezionare gli elementi** di una matrice in maniera analoga a quanto fatto con i vettori."
      ]
    },
    {
      "cell_type": "code",
      "metadata": {},
      "source": [
        "A[1, 2] # Estrazione di elemento in posizione (1,2)\n",
        "A[, 2] # Estrazione seconda colonna\n",
        "A[1, ] # Estrazione prima riga"
      ],
      "execution_count": null,
      "outputs": []
    },
    {
      "cell_type": "markdown",
      "metadata": {},
      "source": [
        ". . .\n",
        "\n",
        "Alcuni **comandi di base** per manipolare le matrici sono i seguenti"
      ]
    },
    {
      "cell_type": "code",
      "metadata": {},
      "source": [
        "dim(A) # Restituisce la dimensione della matrice\n",
        "a <- c(A) # Converte la matrice in un vettore\n",
        "a"
      ],
      "execution_count": null,
      "outputs": []
    },
    {
      "cell_type": "markdown",
      "metadata": {},
      "source": [
        ". . ."
      ]
    },
    {
      "cell_type": "code",
      "metadata": {},
      "source": [
        "diag(A) # Restituisce la diagonale della matrice\n",
        "t(A) # Calcola la matrice trasposta A'\n",
        "sum(A) # Somma di tutti gli elementi di A"
      ],
      "execution_count": null,
      "outputs": []
    },
    {
      "cell_type": "markdown",
      "metadata": {},
      "source": [
        "## Operazioni sulle matrici II\n",
        "\n",
        "Come per i vettori, le operazioni elementari (somma, prodotto, `log`, `exp`, etc.) vengono eseguite **elemento per elemento**."
      ]
    },
    {
      "cell_type": "code",
      "metadata": {},
      "source": [
        "exp(A)"
      ],
      "execution_count": null,
      "outputs": []
    },
    {
      "cell_type": "markdown",
      "metadata": {},
      "source": [
        ". . .\n",
        "\n",
        "Siano ${\\bf A}$ e ${\\bf B}$ due matrici aventi lo stesso numero di colonne e definiamo\n",
        "\n",
        "$$\n",
        "{\\bf C} = \\begin{pmatrix}{\\bf A} \\\\ {\\bf B} \\end{pmatrix}.\n",
        "$$"
      ]
    },
    {
      "cell_type": "code",
      "metadata": {},
      "source": [
        "B <- A # Creo una matrice B identica ad A, per semplicità\n",
        "C <- rbind(A, B)\n",
        "C"
      ],
      "execution_count": null,
      "outputs": []
    },
    {
      "cell_type": "markdown",
      "metadata": {},
      "source": [
        ". . .\n",
        "\n",
        "In maniera analoga, siano ${\\bf A}$ e ${\\bf B}$ due matrici aventi lo stesso numero di righe e definiamo ${\\bf C} = \\begin{pmatrix}{\\bf A} & {\\bf B} \\end{pmatrix}$."
      ]
    },
    {
      "cell_type": "code",
      "metadata": {},
      "source": [
        "C <- cbind(A, B)\n",
        "C"
      ],
      "execution_count": null,
      "outputs": []
    },
    {
      "cell_type": "markdown",
      "metadata": {},
      "source": [
        "## Operazioni sulle matrici III\n",
        "\n",
        "Siano ${\\bf x}$ e ${\\bf y}$ due vettori colonna in $\\mathbb{R}^p$. Allora, il loro \\empb{prodotto incrociato} è pari a\n",
        "\n",
        "$$ \n",
        "{\\bf x}^\\intercal {\\bf y} = \\sum_{i=1}^p x_i y_i.\n",
        "$$\n",
        "\n",
        ". . .\n",
        "\n",
        "In **R** possiamo usare il comando `crossprod`"
      ]
    },
    {
      "cell_type": "code",
      "metadata": {},
      "source": [
        "x <- matrix(c(-4, 2, 6, 10, 22), ncol = 1)\n",
        "y <- matrix(c(3, 2, 2, 7, 9), ncol = 1)\n",
        "crossprod(x, y) # Equivalente a: sum(x * y)"
      ],
      "execution_count": null,
      "outputs": []
    },
    {
      "cell_type": "markdown",
      "metadata": {},
      "source": [
        "Il comando `crossprod` funziona correttamente anche con \"vettori\" **R**.\n",
        "\n",
        ". . .\n",
        "\n",
        "Il comando \\texttt{crossprod} può essere usato anche per calcolare il seguente **prodotto tra matrici** $$\n",
        "{\\bf A}^\\intercal {\\bf B},\n",
        "$$ dove ${\\bf A}$ e ${\\bf B}$ sono due matrici di dimensioni compatibili.\n",
        "\n",
        "## Operazioni sulle matrici IV\n",
        "\n",
        "In algebra lineare il **prodotto tra matrici** compatibili ${\\bf A} {\\bf B}$ è chiamato prodotto righe per colonne. In **R** si usa il comando seguente"
      ]
    },
    {
      "cell_type": "code",
      "metadata": {},
      "source": [
        "A <- rbind(c(1, 2, 3), c(4, 9, 2), c(2, 2, 2))\n",
        "B <- rbind(c(5, 2, 5), c(3, 3, 7), c(-2, -8, 10))\n",
        "\n",
        "A %*% B # Prodotto righe per colonne AB"
      ],
      "execution_count": null,
      "outputs": []
    },
    {
      "cell_type": "markdown",
      "metadata": {},
      "source": [
        ". . .\n",
        "\n",
        "**Nota**. Il comando `A * B` indica il prodotto elemento per elemento e non il prodotto righe per colonne.\n",
        "\n",
        ". . .\n",
        "\n",
        "Se le matrici non sono compatibili **R** produce un errore (provateci per esercizio!)\n",
        "\n",
        "## Operazioni sulle matrici V\n",
        "\n",
        "Sia ${\\bf A}$ una matrice quadrata $n \\times n$ a valori reali. La sua **matrice inversa** ${\\bf A}^{-1}$, quando esiste, è l'unica matrice tale per cui\n",
        "\n",
        "$$\n",
        "{\\bf A} {\\bf A}^{-1} = {\\bf A}^{-1} {\\bf A} =  I_n.\n",
        "$$\n",
        "\n",
        "Per ottenere ${\\bf A}^{-1}$ si usa il comando `solve`."
      ]
    },
    {
      "cell_type": "code",
      "metadata": {},
      "source": [
        "A <- rbind(c(1, 2, 3), c(4, 9, 2), c(2, 2, 2))\n",
        "A1 <- solve(A) # Matrice inversa di A\n",
        "A1"
      ],
      "execution_count": null,
      "outputs": []
    },
    {
      "cell_type": "markdown",
      "metadata": {},
      "source": [
        ". . ."
      ]
    },
    {
      "cell_type": "code",
      "metadata": {},
      "source": [
        "round(A %*% A1, digits = 5) # Operazione di controllo"
      ],
      "execution_count": null,
      "outputs": []
    },
    {
      "cell_type": "markdown",
      "metadata": {},
      "source": [
        ". . ."
      ]
    },
    {
      "cell_type": "code",
      "metadata": {},
      "source": [
        "det(A) # Calcola il determinante della matrice A"
      ],
      "execution_count": null,
      "outputs": []
    },
    {
      "cell_type": "markdown",
      "metadata": {},
      "source": [
        "## Operazioni sulle matrici VI\n",
        "\n",
        "Nel caso una matrice non sia invertibile, il **determinante** è pari a $0$. Il comando `solve` in quel caso produce un errore."
      ]
    },
    {
      "cell_type": "code",
      "metadata": {},
      "source": [
        "# Esempio di matrice NON invertibile\n",
        "A <- rbind(c(1, 2, 3), c(2, 4, 6), c(2, 2, 2))\n",
        "det(A) # Deteminante pari a 0, solve(A) produce un errore"
      ],
      "execution_count": null,
      "outputs": []
    },
    {
      "cell_type": "markdown",
      "metadata": {},
      "source": [
        ". . .\n",
        "\n",
        "Ci sono numerose funzioni per la **scomposizione di matrici**, il cui output è a volte una **lista**."
      ]
    },
    {
      "cell_type": "code",
      "metadata": {},
      "source": [
        "A <- matrix(c(4, 1, 1, 8), ncol = 2)\n",
        "chol(A) # Scomposizione di Cholesky\n",
        "qr(A) # Scomposizione QR\n",
        "eigen(A) # Scomposizione spettrale"
      ],
      "execution_count": null,
      "outputs": []
    },
    {
      "cell_type": "markdown",
      "metadata": {},
      "source": [
        "## Liste\n",
        "\n",
        "Una **lista** è una collezione di oggetti (numeri, vettori, matrici, etc).\n",
        "\n",
        "Per **salvare** o per **estrarre** un oggetto da una lista si usa il simbolo del dollaro `$`."
      ]
    },
    {
      "cell_type": "code",
      "metadata": {},
      "source": [
        "# Creazione di una lista\n",
        "new_list <- list(\n",
        "  A = matrix(c(4, 1, 1, 8), ncol = 2),\n",
        "  x = c(1, 2, 6, 6, 9)\n",
        ")\n",
        "\n",
        "new_list"
      ],
      "execution_count": null,
      "outputs": []
    },
    {
      "cell_type": "markdown",
      "metadata": {},
      "source": [
        "## Esempio: la scomposizione spettrale\n",
        "\n",
        "Gli autovalori ed autovettori di una matrice $\\textbf{A}$ si ottengono tramite il comando `eigen`.\n",
        "\n",
        "Il risultato è una **lista**, contenente gli autovettori (`vectors`) e autovalori (`values`)."
      ]
    },
    {
      "cell_type": "code",
      "metadata": {},
      "source": [
        "Spec_A <- eigen(A) # Scomposizione spettrale della matrice A\n",
        "Spec_A"
      ],
      "execution_count": null,
      "outputs": []
    },
    {
      "cell_type": "markdown",
      "metadata": {},
      "source": [
        ". . ."
      ]
    },
    {
      "cell_type": "code",
      "metadata": {},
      "source": [
        "Spec_A$values # Estrazione degli autovalori"
      ],
      "execution_count": null,
      "outputs": []
    }
  ],
  "metadata": {
    "kernelspec": {
      "name": "ir",
      "language": "R",
      "display_name": "R"
    }
  },
  "nbformat": 4,
  "nbformat_minor": 4
}