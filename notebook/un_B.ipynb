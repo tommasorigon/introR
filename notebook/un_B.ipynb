{
  "cells": [
    {
      "cell_type": "raw",
      "metadata": {},
      "source": [
        "---\n",
        "title: \"R per l'analisi statistica multivariata\"\n",
        "subtitle: \"Unità B: elementi di programmazione\"\n",
        "author: \"Tommaso Rigon\"\n",
        "institute: \"Università Milano-Bicocca\"\n",
        "editor: visual\n",
        "execute:\n",
        "  echo: true\n",
        "  warning: true\n",
        "editor_options: \n",
        "  chunk_output_type: console\n",
        "---"
      ]
    },
    {
      "cell_type": "markdown",
      "metadata": {},
      "source": [
        "## Unità B\n",
        "\n",
        "-   Definizione di una nuova funzione\n",
        "-   Istruzioni di controllo: `if`, `else`\n",
        "-   Cicli `for`, cicli `while`\n",
        "-   Cenni alle funzioni `*apply`\n",
        "-   I pacchetti **R**\n",
        "\n",
        "::: callout-note\n",
        "#### Nota\n",
        "\n",
        "Esercizi **R** associati disponibili a [questo link](https://tommasorigon.github.io/introR/exe/es_1.html)\n",
        ":::\n",
        "\n",
        "## Funzioni I\n",
        "\n",
        "Oltre ad essere un software statistico, **R** è un **linguaggio di programmazione**.\n",
        "\n",
        "La maggior parte degli oggetti **R** è una funzione. Infatti:"
      ]
    },
    {
      "cell_type": "code",
      "metadata": {},
      "source": [
        "class(sum) # Identifica la tipologia di oggetto"
      ],
      "execution_count": null,
      "outputs": []
    },
    {
      "cell_type": "markdown",
      "metadata": {},
      "source": [
        ". . ."
      ]
    },
    {
      "cell_type": "code",
      "metadata": {},
      "source": [
        "class(log) # Secondo esempio"
      ],
      "execution_count": null,
      "outputs": []
    },
    {
      "cell_type": "markdown",
      "metadata": {},
      "source": [
        ". . .\n",
        "\n",
        "È possibile quindi definire **nuove funzioni**, in aggiunta a quelle già esistenti.\n",
        "\n",
        "Una volta create, le funzioni possono essere usate proprio come tutte le altre.\n",
        "\n",
        "## Funzioni II\n",
        "\n",
        "Per creare una nuova funzione, si utilizza comando `function`.\n",
        "\n",
        "La **nuova funzione** `cube` calcola il cubo del numero ricevuto come input:"
      ]
    },
    {
      "cell_type": "code",
      "metadata": {},
      "source": [
        "cube <- function(x) {\n",
        "  out <- x^3\n",
        "  out\n",
        "}"
      ],
      "execution_count": null,
      "outputs": []
    },
    {
      "cell_type": "markdown",
      "metadata": {},
      "source": [
        ". . .\n",
        "\n",
        "L'**ultimo oggetto** (in questo caso chiamato `out`) viene restituito come risultato:"
      ]
    },
    {
      "cell_type": "code",
      "metadata": {},
      "source": [
        "cube(4) # Calcola il cubo del valore 4"
      ],
      "execution_count": null,
      "outputs": []
    },
    {
      "cell_type": "markdown",
      "metadata": {},
      "source": [
        ". . .\n",
        "\n",
        "Possiamo alternativamente utilizzare anche il comando `return` per restituire il risultato:"
      ]
    },
    {
      "cell_type": "code",
      "metadata": {},
      "source": [
        "cube <- function(x) {\n",
        "  out <- x^3\n",
        "  return(out) # Esplicita che il valore da dover restituire è out\n",
        "}\n",
        "cube(8) # Calcola il cubo del valore 8"
      ],
      "execution_count": null,
      "outputs": []
    },
    {
      "cell_type": "markdown",
      "metadata": {},
      "source": [
        "## Funzioni III\n",
        "\n",
        "È possibile definire nuove funzioni con **molteplici argomenti**, scegliendo anche i loro eventuali **valori predefiniti**"
      ]
    },
    {
      "cell_type": "code",
      "metadata": {},
      "source": [
        "power <- function(x, p = 2) {\n",
        "  out <- x^p\n",
        "  out\n",
        "}"
      ],
      "execution_count": null,
      "outputs": []
    },
    {
      "cell_type": "markdown",
      "metadata": {},
      "source": [
        ". . .\n",
        "\n",
        "Il valore predefinito per l'argomento `p` è il quadrato (`p = 2`), infatti:"
      ]
    },
    {
      "cell_type": "code",
      "metadata": {},
      "source": [
        "power(x = 4) # Calcola il quadrato del valore 4"
      ],
      "execution_count": null,
      "outputs": []
    },
    {
      "cell_type": "markdown",
      "metadata": {},
      "source": [
        ". . ."
      ]
    },
    {
      "cell_type": "code",
      "metadata": {},
      "source": [
        "power(4) # Sintassi alternativa: non è necessario specificare i nomi degli argomenti"
      ],
      "execution_count": null,
      "outputs": []
    },
    {
      "cell_type": "markdown",
      "metadata": {},
      "source": [
        ". . .\n",
        "\n",
        "Tuttavia, possiamo selezionare una potenza diversa nel modo seguente:"
      ]
    },
    {
      "cell_type": "code",
      "metadata": {},
      "source": [
        "power(x = 4, p = 3) # Calcola il cubo del valore 4\n",
        "power(4, 3) # Sintassi alternativa: non è necessario specificare i nomi degli argomenti"
      ],
      "execution_count": null,
      "outputs": []
    },
    {
      "cell_type": "markdown",
      "metadata": {},
      "source": [
        "## Istruzioni di controllo I\n",
        "\n",
        "L'istruzione di controllo `if` consente di svolgere una determinata operazione solamente se una certa **condizione** è verificata (`TRUE` oppure `FALSE`).\n",
        "\n",
        "L'istruzione di controllo (facoltativa) `else` consente di svolgere un'`operazione alternativa` se la precedente condizione non è verificata.\n",
        "\n",
        ". . .\n",
        "\n",
        "Ad esempio, il seguente codice mostra a schermo (funzione `print`) una frase diversa a seconda che la condizione sia vera o falsa:"
      ]
    },
    {
      "cell_type": "code",
      "metadata": {},
      "source": [
        "condizione <- pi^2 < 10 # Valore booleano (in questo caso la condizione è TRUE)\n",
        "\n",
        "if (condizione) {\n",
        "  print(\"La condizione è vera\")\n",
        "  # Alcuni comandi da eseguire\n",
        "  # ...\n",
        "} else {\n",
        "  print(\"La condizione è falsa\")\n",
        "  # Altri comandi da eseguire\n",
        "  # ...\n",
        "}"
      ],
      "execution_count": null,
      "outputs": []
    },
    {
      "cell_type": "markdown",
      "metadata": {},
      "source": [
        "## Istruzioni di controllo II\n",
        "\n",
        "La seguente funzione `square_root` è un esempio più concreto relativo ad `if` ed `else`.\n",
        "\n",
        "Se il numero fornito come input è negativo, viene restituito un `NaN`:"
      ]
    },
    {
      "cell_type": "code",
      "metadata": {},
      "source": [
        "square_root <- function(x) {\n",
        "  if (x < 0) {\n",
        "    # Messaggio di avvertimento; in realtà sarebbe più appropriato usare il comando \"warning\"\n",
        "    print(\"Il valore di x deve essere positivo\")\n",
        "    out <- NaN # Restituisco Not A Number\n",
        "  } else {\n",
        "    out <- sqrt(x)\n",
        "  }\n",
        "  out\n",
        "}\n",
        "\n",
        "square_root(-2) # La condizione x < 0 è verificata\n",
        "square_root(36) # La condizione x < 0 NON è verificata"
      ],
      "execution_count": null,
      "outputs": []
    },
    {
      "cell_type": "markdown",
      "metadata": {},
      "source": [
        "## Cicli `while` e `for` I\n",
        "\n",
        "I cicli `for` ed i cicli `while` ripetono l'operazione contenuta tra le parentesi graffe `{ }` fintanto che una determinata condizione non si è verificata.\n",
        "\n",
        ". . .\n",
        "\n",
        "Cominciamo con un semplice esempio relativo alla funzione `while`:"
      ]
    },
    {
      "cell_type": "code",
      "metadata": {},
      "source": [
        "i <- 5 # Partiamo con i = 5\n",
        "\n",
        "while (i <= 25) { # Ripete l'operazione fintanto che i non è minore o uguale di 25\n",
        "  print(i) # Mostra a schermo il valore di i\n",
        "  i <- i + 5 # Incrementa il valore di i\n",
        "\n",
        "  # In contesti reali, qui ovviamente ci sono altre operazioni da eseguire\n",
        "  # ...\n",
        "}"
      ],
      "execution_count": null,
      "outputs": []
    },
    {
      "cell_type": "markdown",
      "metadata": {},
      "source": [
        "## Cicli `while` e `for` II\n",
        "\n",
        "::: callout-warning\n",
        "Attenzione a non creare dei **loop senza fine**!\n",
        ":::\n",
        "\n",
        ". . .\n",
        "\n",
        "Il codice seguente richiede l'interruzione forzata della sessione di **R** oppure, nella peggiore delle ipotesi, il riavvio del computer:"
      ]
    },
    {
      "cell_type": "code",
      "metadata": {},
      "source": [
        "#| eval: false\n",
        "# NON ESEGUIRE IL SEGUENTE CODICE!\n",
        "#\n",
        "# La condizione i <= 25 è sempre vera perché i non viene aggiornato\n",
        "i <- 5\n",
        "while (i <= 25) {\n",
        "  print(i)\n",
        "\n",
        "  # Altre operazioni da eseguire\n",
        "  # ...\n",
        "}"
      ],
      "execution_count": null,
      "outputs": []
    },
    {
      "cell_type": "markdown",
      "metadata": {},
      "source": [
        "## Cicli `while` e `for` II\n",
        "\n",
        "In alternativa ai cicli `while`, si può usare la sintassi più esplicita dei cicli `for`.\n",
        "\n",
        "Il `ciclo` esegue il contenuto delle parantesi graffe considerando di volta in volta i valori contenuti ad esempio in un vettore:"
      ]
    },
    {
      "cell_type": "code",
      "metadata": {},
      "source": [
        "values <- seq(from = 5, to = 25, by = 5)\n",
        "values\n",
        "\n",
        "for (i in values) {\n",
        "  print(i + 2) # Mostra a schermo il valore di i + 2\n",
        "\n",
        "  # Altre operazioni da eseguire\n",
        "  # ...\n",
        "}"
      ],
      "execution_count": null,
      "outputs": []
    },
    {
      "cell_type": "markdown",
      "metadata": {},
      "source": [
        "## Esercizio riassuntivo I\n",
        "\n",
        "Si calcolino gli elementi di una matrice quadrata ${\\bf D}$ di dimensione $n \\times n$, i cui elementi sono pari $$\n",
        "d_{ij} = (x_i - x_j)^2, \\qquad  i,j \\in \\{1,\\dots,n\\},\n",
        "$$ dove ${\\bf x} = (x_1,\\dots,x_n)^\\intercal$ è un generico vettore in $\\mathbb{R}^n$.\n",
        "\n",
        "In altri termini, si definisca una funzione `distances(x)` che a partire da un generico vettore `x` restituisca una matrice `D`.\n",
        "\n",
        ". . .\n",
        "\n",
        "::: callout-tip\n",
        "## Traccia dello svolgimento\n",
        "\n",
        "Si crei innanzitutto una matrice `D` i cui elementi sono tutti pari a `0`, usando il comando `matrix`.\n",
        "\n",
        "Quindi, si usino due cicli `for` \"annidati\", ovvero uno all'interno dell'altro, per calcolare ciascuno dei valori `D[i, j]`.\n",
        ":::\n",
        "\n",
        "#### Soluzione esercizio riassuntivo I"
      ]
    },
    {
      "cell_type": "code",
      "metadata": {},
      "source": [
        "distances <- function(x) {\n",
        "  n <- length(x) # Ottengo la lunghezza del vettore x\n",
        "  D <- matrix(0, nrow = n, ncol = n) # Creazione matrice vuota\n",
        "\n",
        "  for (i in 1:n) {\n",
        "    for (j in 1:n) {\n",
        "      D[i, j] <- (x[i] - x[j])^2\n",
        "    }\n",
        "  }\n",
        "  D # Valore da restituire\n",
        "}\n",
        "\n",
        "x <- c(5, 2, 1, 24) # Esempio per verificare che sia corretto\n",
        "distances(x)"
      ],
      "execution_count": null,
      "outputs": []
    },
    {
      "cell_type": "markdown",
      "metadata": {},
      "source": [
        "::: callout-note\n",
        "## Nota\n",
        "\n",
        "Esistono molti modi diversi (ma corretti) di implementare questa funzione. Per inciso, questa soluzione non è affatto il modo più efficiente.\n",
        ":::\n",
        "\n",
        "## Esercizio riassuntivo II\n",
        "\n",
        "`Fizzbuzz` è un semplice esercizio di programmazione spesso usato nei colloqui di lavoro per verificare le conoscenze di programmazione di base.\n",
        "\n",
        "Il compito è il seguente: per tutti i numeri da $1$ a $100$ si stampi a schermo:\n",
        "\n",
        "-   la parola `fizz` se il numero è un multiplo di $3$,\n",
        "\n",
        "-   la parola `buzz` se è multiplo di $5$,\n",
        "\n",
        "-   la parola `fizzbuzz` se il numero è un multiplo sia di $3$ che di $5$,\n",
        "\n",
        "    \\item\n",
        "\n",
        "    il numero stesso altrimenti.\n",
        "\n",
        ". . .\n",
        "\n",
        "::: callout-tip\n",
        "## Suggerimento\n",
        "\n",
        "Si usi la funzione `print` e la funzione resto `%` di **R**. Inoltre, per rendere il codice più snello è possibile usare l'istruzione di controllo chiamata `else if`.\n",
        ":::\n",
        "\n",
        "#### Soluzione esercizio riassuntivo II\n",
        "\n",
        "La soluzione riportata fa uso del costrutto `else if`."
      ]
    },
    {
      "cell_type": "code",
      "metadata": {},
      "source": [
        "#| eval: false\n",
        "for (i in 1:100) {\n",
        "  condA <- (i %% 3) == 0 # Il numero è un multiplo di 3?\n",
        "  condB <- (i %% 5) == 0 # Il numero è un multiplo di 5?\n",
        "\n",
        "  if (condA & condB) {\n",
        "    print(\"fizzbuzz\")\n",
        "  } else if (condA) {\n",
        "    print(\"fizz\")\n",
        "  } else if (condB) {\n",
        "    print(\"buzz\")\n",
        "  } else {\n",
        "    print(i)\n",
        "  }\n",
        "}"
      ],
      "execution_count": null,
      "outputs": []
    },
    {
      "cell_type": "markdown",
      "metadata": {},
      "source": [
        "## La famiglia di funzioni `*apply`\n",
        "\n",
        "Quando possibile, sarebbe meglio `evitare` l'utilizzo dei cicli `for`, perché questi tendono ad essere lenti in **R** (a differenza di altri linguaggi, come C++).\n",
        "\n",
        "Un'alternativa più elegante, anche se non necessariamente più efficiente, è la famiglia di funzioni `*apply`, ovvero: `apply`, `tapply`, `sapply`, `mapply`, `lapply`.\n",
        "\n",
        "La più semplice, ovvero `apply`, esegue una determinata funzione per ciascuna riga / colonna di una matrice.\n",
        "\n",
        "::: callout-note\n",
        "## Esercizio\n",
        "\n",
        "Si consulti la documentazione delle funzioni `*apply` per avere una prima idea del loro funzionamento.\n",
        ":::\n",
        "\n",
        "## I pacchetti **R**\n",
        "\n",
        "Come menzionato nella lezione introduttiva, **R** è organizzato in **pacchetti**.\n",
        "\n",
        "Se vogliamo utilizzare le funzioni di un pacchetto, questo può essere richiamato usando la funzione `library`, ovvero:"
      ]
    },
    {
      "cell_type": "code",
      "metadata": {},
      "source": [
        "library(MASS) # Carica in memoria il pacchetto MASS\n",
        "library(knitr) # Carica in memoria il pacchetto knitr"
      ],
      "execution_count": null,
      "outputs": []
    },
    {
      "cell_type": "markdown",
      "metadata": {},
      "source": [
        ". . .\n",
        "\n",
        "Se un pacchetto non è presente nel computer è necessario installarlo.\n",
        "\n",
        "Si può usare il comando seguente oppure usare la finestra \"Packages\" presente in RStudio."
      ]
    },
    {
      "cell_type": "code",
      "metadata": {},
      "source": [
        "#| eval: false\n",
        "install.packages(\"knitr\") # Installa il pacchetto knitr"
      ],
      "execution_count": null,
      "outputs": []
    }
  ],
  "metadata": {
    "kernelspec": {
      "name": "ir",
      "language": "R",
      "display_name": "R"
    }
  },
  "nbformat": 4,
  "nbformat_minor": 4
}